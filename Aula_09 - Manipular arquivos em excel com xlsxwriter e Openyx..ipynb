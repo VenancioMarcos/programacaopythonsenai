{
 "cells": [
  {
   "cell_type": "markdown",
   "id": "a6b24da4",
   "metadata": {},
   "source": [
    "### Biblioteca\n",
    "\n",
    "https://xlsxwriter.readthedocs.io/worksheet.html?highlight=write_formula"
   ]
  },
  {
   "cell_type": "markdown",
   "id": "0f0e263c",
   "metadata": {},
   "source": [
    "#### Aula 09 - (02/08/2023)\n",
    "#### Programação em Python\n",
    "#### Objetivo da Aula;\n",
    "#### -manipular arquivos em excel com xlsxwriter e Openyx\n",
    "#### -gerenciar arquivos com a biblioteca O.S.\n"
   ]
  },
  {
   "cell_type": "markdown",
   "id": "76b4de9a",
   "metadata": {},
   "source": [
    "## Exercicio - 02"
   ]
  },
  {
   "cell_type": "code",
   "execution_count": 60,
   "id": "c8bcc871",
   "metadata": {},
   "outputs": [],
   "source": [
    "import xlsxwriter as xlsx\n",
    "import os\n",
    "\n",
    "#-------------------------------------------------------caminho e  arquivo\n",
    "\n",
    "caminho = 'C:\\\\Users\\\\FIC\\\\Documents\\\\Marcos.Venancio-Python\\\\'\n",
    "arquivo = 'Exemplo-9.2.xlsx'\n",
    "workbook = xlsx.Workbook(caminho+arquivo) #...........Criar uma nova pasta de trabalho.\n",
    "\n",
    "\n",
    "#_ _ _ _ _ _ _ _ _ _ _ _ _ _ _ _ _ _ _Adicionar uma planilha (aba) ao documento\n",
    "\n",
    "sheetDados = workbook.add_worksheet('Dados')\n",
    "\n",
    "#---------------------------------Modificando a cor de fundo das celulas\n",
    "\n",
    "higherFormat = workbook.add_format({ \n",
    "                                    'bg_color':'#E2EFDA',\n",
    "                                    'font_color':'whiter',\n",
    "                                    'bold': True\n",
    "                                    })\n",
    "\n",
    "lowerFormat = workbook.add_format({\n",
    "                                    'bg_color':'#F8CBAD',\n",
    "                                    'font_color':'whiter',\n",
    "                                    'bold': True\n",
    "                                    })\n",
    "#----------------Criar um modelo de dados para aplicar a formatação\n",
    "\n",
    "dados = [\n",
    "    ['Produto','Qtde','Preço','SubTotal'],\n",
    "    ['calça',5,50],\n",
    "    ['Camisa',4,30],\n",
    "    ['Sapato',5,40],\n",
    "    ['Saia',8,20],\n",
    "    ['Blusa',6,10],\n",
    "    ['Shorts',8,25],\n",
    "\n",
    "\n",
    "]\n",
    "\n",
    "for linha, listas in enumerate(dados):\n",
    "    sheetDados.write_row(linha+5,0,listas)\n",
    "    sheetDados.write_formula(linha+6,3,'=B' + str(linha+7) + '*C' + str(linha+7))\n",
    "        \n",
    "    \n",
    "    #sheetDados.write_formula(linha+6,3,'=B' + str(linha+7) + '*C' + str(linha+7))\n",
    "    # o código acima, é mesma coisa que este código abaixo\n",
    "    # sheetDados.write_formula(linha+6,3,'=B7*C7')\n",
    "    \n",
    "sheetDados.conditional_format('A1:D7',{'type' : 'cell',\n",
    "                                       'criteria':'>=',\n",
    "                                       'value' : 10,\n",
    "                                       'format':higherFormat\n",
    "                                    } \n",
    "                             )\n",
    "\n",
    "sheetDados.conditional_format('A1:D7',{'type' : 'cell',\n",
    "                                       'criteria':'<',\n",
    "                                       'value' : 0,\n",
    "                                       'format':lowerFormat\n",
    "                                      \n",
    "                                    }\n",
    "                             )\n",
    "    \n",
    "#fechar e salvar arquivo\n",
    "\n",
    "workbook.close()\n",
    "\n",
    "\n",
    "#abrir o documento\n",
    "\n",
    "os.startfile(caminho + arquivo)"
   ]
  },
  {
   "cell_type": "markdown",
   "id": "f0adfef4",
   "metadata": {},
   "source": []
  }
 ],
 "metadata": {
  "kernelspec": {
   "display_name": "Python 3 (ipykernel)",
   "language": "python",
   "name": "python3"
  },
  "language_info": {
   "codemirror_mode": {
    "name": "ipython",
    "version": 3
   },
   "file_extension": ".py",
   "mimetype": "text/x-python",
   "name": "python",
   "nbconvert_exporter": "python",
   "pygments_lexer": "ipython3",
   "version": "3.10.9"
  }
 },
 "nbformat": 4,
 "nbformat_minor": 5
}
