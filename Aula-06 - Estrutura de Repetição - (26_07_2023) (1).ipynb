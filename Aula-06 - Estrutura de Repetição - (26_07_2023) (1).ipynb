{
 "cells": [
  {
   "cell_type": "markdown",
   "id": "cf9388ac",
   "metadata": {},
   "source": [
    "\n",
    "#### Exercício 14 - Faça um programa que peça 10 números inteiros, calcule e mostre a quantidade de números pares e a quantidade de números ímpares."
   ]
  },
  {
   "cell_type": "code",
   "execution_count": null,
   "id": "298933f1",
   "metadata": {},
   "outputs": [],
   "source": [
    "numeros = [] #LISTA DE NUMEROS.\n",
    "\n",
    "i = 1\n",
    "\n",
    "while i <= 10:\n",
    "    num = int(input('Digite um numero:'))\n",
    "    numeros.append(num)\n",
    "    \n",
    "    i = i + 1\n",
    "    \n",
    "#...Calcular quadidade.\n",
    "#.....Mostrar numerospares e impares.\n",
    "\n",
    "par = 0\n",
    "impar = 0\n",
    "\n",
    "for x in numeros:\n",
    "    if x % 2 == 0:\n",
    "        par = par + 1\n",
    "    else:\n",
    "        impar = impar + 1\n",
    "    \n",
    "print(f'Numreros digitados {numeros}.') \n",
    "print(f'Foram localizados {par} numeros pares.')\n",
    "print(f'Foram localizados {impar} numeros impares.')"
   ]
  },
  {
   "cell_type": "markdown",
   "id": "60883099",
   "metadata": {},
   "source": [
    "#### Exercício 15 - A série de Fibonacci é formada pela sequência 1,1,2,3,5,8,13,21,34,55,... Faça um programa capaz de gerar a série até o enésimo termo."
   ]
  },
  {
   "cell_type": "code",
   "execution_count": null,
   "id": "1645fcab",
   "metadata": {},
   "outputs": [],
   "source": [
    "termo = int(input('Digite o numero de termos a gerar de '))\n",
    "\n",
    "fibo = [1]\n",
    "\n",
    "i = 0\n",
    "\n",
    "while i <= termo: #função p/ repetir o valor de termo digitado.\n",
    "    if fibo[0] == 1 and i == 0:\n",
    "        \n",
    "        fibo.append(1)\n",
    "        \n",
    "    else:\n",
    "        a = fibo[i] + fibo[i-1]\n",
    "        \n",
    "        fibo.append(a)\n",
    "        \n",
    "    i = i + 1\n",
    "        \n",
    "print(fibo)"
   ]
  },
  {
   "cell_type": "markdown",
   "id": "5f53f574",
   "metadata": {},
   "source": [
    "#### Exercício 16 - A série de Fibonacci é formada pela sequência0,1,1,2,3,5,8,13,21,34,55,... Faça um programa que gere a série até que o valor seja maior que 500."
   ]
  },
  {
   "cell_type": "code",
   "execution_count": null,
   "id": "a8342d95",
   "metadata": {},
   "outputs": [],
   "source": [
    "termo = int(input('Digite o numero de termos a gerar de '))\n",
    "\n",
    "fibo = [1]\n",
    "\n",
    "i = 0\n",
    "\n",
    "while i <= termo: #função p/ repetir o valor de termo digitado.\n",
    "    if fibo[0] == 1 and i == 0:\n",
    "        \n",
    "        fibo.append(1)\n",
    "        \n",
    "    else:\n",
    "        a = fibo[i] + fibo[i-1]\n",
    "        \n",
    "        fibo.append(a)\n",
    "        \n",
    "    i = i + 1\n",
    "        \n",
    "\n",
    "print(fibo)"
   ]
  },
  {
   "cell_type": "markdown",
   "id": "01ab99c5",
   "metadata": {},
   "source": [
    "#### EXERCICIO 16 EXEMPLO_02"
   ]
  },
  {
   "cell_type": "code",
   "execution_count": null,
   "id": "ce3c40e1",
   "metadata": {},
   "outputs": [],
   "source": [
    "fibo = [1,1]\n",
    "\n",
    "while fibo [-1] <= 500:\n",
    "    \n",
    "    a = fibo[-1] + fibo[-2]\n",
    "    \n",
    "    if a > 500:\n",
    "        break\n",
    "        \n",
    "    fibo.append(a)\n",
    "    \n",
    "print(fibo)"
   ]
  },
  {
   "cell_type": "markdown",
   "id": "9747752e",
   "metadata": {},
   "source": [
    "#### Exercício 17 - Faça um programa que calcule o fatorial de um número inteiro fornecido pelo usuário. Ex.: 5!=5.4.3.2.1=120"
   ]
  },
  {
   "cell_type": "code",
   "execution_count": null,
   "id": "3cffb47b",
   "metadata": {},
   "outputs": [],
   "source": [
    "#fazer em casa"
   ]
  },
  {
   "cell_type": "markdown",
   "id": "840964b0",
   "metadata": {},
   "source": [
    "#### Exercício 24 - Faça um programa que calcule o mostre a média aritmética de N notas."
   ]
  },
  {
   "cell_type": "code",
   "execution_count": 11,
   "id": "db51d6fc",
   "metadata": {},
   "outputs": [
    {
     "name": "stdout",
     "output_type": "stream",
     "text": [
      "7.0\n"
     ]
    }
   ],
   "source": [
    "notas = [10,9,8,7,6,5,4]\n",
    "\n",
    "soma = 0\n",
    "for n in notas:\n",
    "    soma = n + soma\n",
    "        \n",
    "ele = len(notas)\n",
    "\n",
    "media = round(soma / ele,1)\n",
    "\n",
    "print(media)"
   ]
  },
  {
   "cell_type": "code",
   "execution_count": 12,
   "id": "170b08f6",
   "metadata": {},
   "outputs": [
    {
     "ename": "SyntaxError",
     "evalue": "expected ':' (229020179.py, line 5)",
     "output_type": "error",
     "traceback": [
      "\u001b[1;36m  Cell \u001b[1;32mIn[12], line 5\u001b[1;36m\u001b[0m\n\u001b[1;33m    while ent.lower() != 's'\u001b[0m\n\u001b[1;37m                            ^\u001b[0m\n\u001b[1;31mSyntaxError\u001b[0m\u001b[1;31m:\u001b[0m expected ':'\n"
     ]
    }
   ],
   "source": [
    "notas = []\n",
    "\n",
    "ent = input('Digite a nota. (Digite S para sair.)')\n",
    "\n",
    "while ent.lower() != 's'\n",
    "\n",
    "    notas.append(float(ent))\n",
    "    ent = input('Digite a nota. (Digite S para sair.)')\n",
    "\n",
    "for n in notas:\n",
    "    soma = n + soma\n",
    "        \n",
    "ele = len(notas)\n",
    "\n",
    "media = round(soma / ele,1)\n",
    "\n",
    "print(media)"
   ]
  },
  {
   "cell_type": "code",
   "execution_count": null,
   "id": "f42c4013",
   "metadata": {},
   "outputs": [],
   "source": []
  }
 ],
 "metadata": {
  "kernelspec": {
   "display_name": "Python 3 (ipykernel)",
   "language": "python",
   "name": "python3"
  },
  "language_info": {
   "codemirror_mode": {
    "name": "ipython",
    "version": 3
   },
   "file_extension": ".py",
   "mimetype": "text/x-python",
   "name": "python",
   "nbconvert_exporter": "python",
   "pygments_lexer": "ipython3",
   "version": "3.10.9"
  }
 },
 "nbformat": 4,
 "nbformat_minor": 5
}
