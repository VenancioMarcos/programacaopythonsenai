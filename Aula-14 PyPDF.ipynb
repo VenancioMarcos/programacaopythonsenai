{
 "cells": [
  {
   "cell_type": "markdown",
   "metadata": {},
   "source": [
    "Biblioeca para manipular arquivos em PDF (PyPDF).\n",
    "\n",
    "Instalação;\n",
    "!pip install PyPDF"
   ]
  },
  {
   "cell_type": "code",
   "execution_count": null,
   "metadata": {},
   "outputs": [],
   "source": [
    "!pip install PyPDF2"
   ]
  },
  {
   "cell_type": "code",
   "execution_count": 30,
   "metadata": {},
   "outputs": [
    {
     "name": "stdout",
     "output_type": "stream",
     "text": [
      "[['Gastos Valor'], ['Luz 150.00'], ['Luz 150.00'], ['Luz 150.00'], ['Luz 150.00'], ['Luz 150.00'], ['Luz 150.00']]\n"
     ]
    }
   ],
   "source": [
    "import PyPDF2 as pdf\n",
    "import openpyxl\n",
    "import os\n",
    "\n",
    "caminho = 'C:\\\\Users\\\\FIC\\Documents\\\\Marcos.Venancio-Python\\\\'\n",
    "arquivo = 'Gastos.pdf'\n",
    "\n",
    "pdf_file = open(caminho + arquivo, 'rb')\n",
    "\n",
    "read_pdf = pdf.PdfReader(pdf_file)\n",
    "\n",
    "number_of_pages = len(read_pdf.pages)\n",
    "\n",
    "page = read_pdf.pages[0]\n",
    "\n",
    "page_content = page.extract_text()\n",
    "\n",
    "#__________________________Tratandos os Dados\n",
    "\n",
    "parsed = page_content.splitlines()\n",
    "\n",
    "#print(parsed)ok\n",
    "\n",
    "parsed.remove(' ')\n",
    "\n",
    "#print(parsed)ok\n",
    "\n",
    "#_______________________Converter a lista em string (str)\n",
    "\n",
    "#Converte uma lista str separando os elementos por / .\n",
    "\n",
    "texto = '/'.join(parsed)\n",
    "\n",
    "texto = texto.replace(',','.')\n",
    "\n",
    "texto = texto.replace('  /',',')\n",
    "\n",
    "texto = texto.replace('  ',' ')\n",
    "\n",
    "texto = texto.replace(',','/')\n",
    "\n",
    "parsed = texto.split('/')\n",
    "\n",
    "lista_dados = []\n",
    "\n",
    "for i in range(0,len(parsed)):\n",
    "    lista_dados.append([parsed[i]])\n",
    "\n",
    "#_______________________________________________________\n",
    "\n",
    "lista = []\n",
    "\n",
    "i = 0\n",
    "\n",
    "for row in lista_dados:\n",
    "    a = ','.join(lista_dados[i])\n",
    "    lista.append(a.split(','))\n",
    "    i = 1\n",
    "\n",
    "#________________________________________________________\n",
    "\n",
    "wb = openpyxl.Workbook()\n",
    "\n",
    "ws = wb.active\n",
    "\n",
    "for row in lista_dados:\n",
    "    ws.append(row)\n",
    "\n",
    "wb.save(filename='teste_aula14.xlsx')\n",
    "\n",
    "#________________________________________________________\n",
    "\n",
    "\n",
    "print(lista)\n"
   ]
  }
 ],
 "metadata": {
  "kernelspec": {
   "display_name": "Python 3",
   "language": "python",
   "name": "python3"
  },
  "language_info": {
   "codemirror_mode": {
    "name": "ipython",
    "version": 3
   },
   "file_extension": ".py",
   "mimetype": "text/x-python",
   "name": "python",
   "nbconvert_exporter": "python",
   "pygments_lexer": "ipython3",
   "version": "3.11.0"
  },
  "orig_nbformat": 4
 },
 "nbformat": 4,
 "nbformat_minor": 2
}
