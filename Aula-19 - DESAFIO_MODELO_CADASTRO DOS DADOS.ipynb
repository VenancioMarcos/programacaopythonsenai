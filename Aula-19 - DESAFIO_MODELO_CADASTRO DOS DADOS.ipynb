{
 "cells": [
  {
   "cell_type": "markdown",
   "metadata": {},
   "source": [
    "### DESAFIO - FINAL"
   ]
  },
  {
   "cell_type": "markdown",
   "metadata": {},
   "source": [
    "#### CRIANDO ESTRUTURA DE PREENCHIMENTO E CADASTRO DOS DADOS RECEBIDOS"
   ]
  },
  {
   "cell_type": "code",
   "execution_count": null,
   "metadata": {},
   "outputs": [],
   "source": [
    "def open_file(fileName):\n",
    "    encoding = input('Informe o encoding(ASCII, UTF-16, UTF-8, ANSI):')\n",
    "    try:\n",
    "        with open(fileName, 'r', encoding=encoding) as file:\n",
    "            contents = file.read()\n",
    "            return contents\n",
    "    except UnboundLocalError:\n",
    "        print('ERRO: Encoding especificado diferente do padrão do documento.')\n",
    "\n",
    "caminho = 'C:\\\\Users\\\\FIC\\\\Documents\\\\Marcos.Venancio-Python\\\\'\n",
    "\n",
    "arquivo = 'desadio_cadastro.txt'\n",
    "\n",
    "dados = open_file(caminho + arquivo)\n",
    "\n",
    "lista_dados = dados.splitlines()\n",
    "for i in range (0, len(lista_dados)):\n",
    "    lista_dados[i] = lista_dados[i].split(';')\n",
    "\n",
    "\n",
    "\n",
    "#VARIAVEL DE POSIÇÃO\n",
    "\n",
    "pos = -1\n",
    "\n",
    "for i in range(0,len(lista_dados)):\n",
    "    if lista_dados[i][0] == '':\n",
    "        pos = i\n",
    "        break\n",
    "\n",
    "#IDENTIFICAR A POSIÇÃO DA PRIMEIRA LISTA VAZIA\n",
    "#REALIZAR O FATIAMENTO DA LISTA APENAS COM AS LISTA PREENCHIDAS\n",
    "\n",
    "lista_dados = lista_dados[0:pos]\n",
    "\n",
    "#print(lista_dados)\n",
    "\n"
   ]
  }
 ],
 "metadata": {
  "language_info": {
   "name": "python"
  },
  "orig_nbformat": 4
 },
 "nbformat": 4,
 "nbformat_minor": 2
}
