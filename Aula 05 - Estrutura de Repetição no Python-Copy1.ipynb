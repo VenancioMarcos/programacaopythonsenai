{
 "cells": [
  {
   "cell_type": "markdown",
   "id": "5155af86",
   "metadata": {},
   "source": [
    "EXERCICIO_01- FUNÇÃO_(for)"
   ]
  },
  {
   "cell_type": "code",
   "execution_count": null,
   "id": "9d1ee522",
   "metadata": {},
   "outputs": [],
   "source": [
    "frutas = ['abacate', 'pera', 'abacaxi', 'Após isso o for é finalizado'] #lista\n",
    "\n",
    "for fruta in frutas:\n",
    "    print(fruta)\n",
    "    \n",
    "print('Fim di FOR - Este está fora do laço de repetição')"
   ]
  },
  {
   "cell_type": "markdown",
   "id": "00dd9f12",
   "metadata": {},
   "source": [
    "EXERCICIO_02 - FUNÇÃO_ (for) com condicional"
   ]
  },
  {
   "cell_type": "code",
   "execution_count": null,
   "id": "f5ddb384",
   "metadata": {},
   "outputs": [],
   "source": [
    "frutas = ['abacate', 'pera', 'abacaxi', \n",
    "          'Após isso o for é finalizado'] #lista\n",
    "\n",
    "for fruta in frutas:\n",
    "    if fruta.startswith ('a'):\n",
    "        print (fruta)\n",
    "                \n",
    "    \n",
    "print('Fim di FOR')"
   ]
  },
  {
   "cell_type": "markdown",
   "id": "b746ae42",
   "metadata": {},
   "source": [
    "#### QUEBRA CABEÇA PARA FAZER EM CASA"
   ]
  },
  {
   "cell_type": "code",
   "execution_count": null,
   "id": "117628a2",
   "metadata": {},
   "outputs": [],
   "source": [
    "frutas = ['abacate', 'maça', 'manga', 'banana', 'pera', \n",
    "          'abacaxi', 'Após isso o for é finalizado'] #lista\n",
    "\n",
    "for fruta in frutas:\n",
    "    if fruta.startswith ('a'):\n",
    "        print (fruta)\n",
    "    if fruta.startswith ('b'):\n",
    "        print (fruta)\n",
    "    if fruta.startswith ('m'):\n",
    "        print (fruta)\n",
    "                \n",
    "    \n",
    "print('Fim da função (for).')"
   ]
  },
  {
   "cell_type": "markdown",
   "id": "dfc3701e",
   "metadata": {},
   "source": [
    "#### QUEBRA CABEÇA PARA FAZER EM CASA"
   ]
  },
  {
   "cell_type": "code",
   "execution_count": null,
   "id": "fd129fa7",
   "metadata": {},
   "outputs": [],
   "source": [
    "frutas = ['abacate', 'maça', 'manga', 'banana', 'pera', \n",
    "          'abacaxi', 'Após isso o for é finalizado'] #lista\n",
    "\n",
    "letra_user = input('Digite uma letra; ')\n",
    "\n",
    "for fruta in frutas:\n",
    "    if fruta.startswith ('a'):\n",
    "        print (fruta)\n",
    "    if fruta.startswith ('b'):\n",
    "        print (fruta)\n",
    "    if fruta.startswith ('m'):\n",
    "        print (fruta)\n",
    "                \n",
    "    \n",
    "print('Fim da função (for).')"
   ]
  },
  {
   "cell_type": "markdown",
   "id": "5f565c08",
   "metadata": {},
   "source": [
    "#### EXEMPLO DA FUNÇÃO (for) + FUNÇÃO (input) para perguntar algo."
   ]
  },
  {
   "cell_type": "code",
   "execution_count": null,
   "id": "d163c72b",
   "metadata": {},
   "outputs": [],
   "source": [
    "vogais = ['a', 'e', 'i', 'o', 'u',\n",
    "          'Após isso o for é finalizado'] #lista\n",
    "\n",
    "letra_user = input('Digite uma letra; ')\n",
    "\n",
    "for letra in vogais:\n",
    "    if letra_user == letra:\n",
    "        print ('É uma vogal')\n",
    "\n",
    "print('É uma consoante).')"
   ]
  },
  {
   "cell_type": "markdown",
   "id": "00a9edb2",
   "metadata": {},
   "source": [
    "Exercício 06 - Faça um programa que imprima na tela os números de 1 a 20, um abaixo\n",
    "do outro. Depois modifique o programa para que ele mostre os números um ao lado do\n",
    "outro."
   ]
  },
  {
   "cell_type": "markdown",
   "id": "881aaf4a",
   "metadata": {},
   "source": [
    "#### EXEMPLO DA FUNÇÃO (for) DIGITAÇÃO MANUAL"
   ]
  },
  {
   "cell_type": "code",
   "execution_count": null,
   "id": "f553790b",
   "metadata": {},
   "outputs": [],
   "source": [
    "numeros = [1,2,3,4,5,6,7,8,9,10,11,12,13,14,15]\n",
    "\n",
    "for x in numeros:\n",
    "    print(x)"
   ]
  },
  {
   "cell_type": "markdown",
   "id": "f045ee29",
   "metadata": {},
   "source": [
    "#### EXEMPLO DA FUNÇÃO (for) DIGITAÇÃO AUTOMATICO FUNÇÃO (range)"
   ]
  },
  {
   "cell_type": "code",
   "execution_count": null,
   "id": "5c1df0af",
   "metadata": {},
   "outputs": [],
   "source": [
    "lista = range (1,16,) #USANDO A ESTRUTURA ACIMA\n",
    "\n",
    "for x in lista:\n",
    "    print(x)"
   ]
  },
  {
   "cell_type": "code",
   "execution_count": null,
   "id": "3f0c1384",
   "metadata": {},
   "outputs": [],
   "source": [
    "lista = range (1,10,) #USANDO A ESTRUTURA ACIMA\n",
    "\n",
    "numeros = []\n",
    "\n",
    "for x in lista:\n",
    "    numeros.append(x)\n",
    "    \n",
    "print(numeros) #FORA DA ESTRUTURA for"
   ]
  },
  {
   "cell_type": "code",
   "execution_count": null,
   "id": "683ba762",
   "metadata": {},
   "outputs": [],
   "source": [
    "lista = range (1,10,) #USANDO A ESTRUTURA ACIMA.\n",
    "\n",
    "numeros = []\n",
    "\n",
    "for x in lista:\n",
    "    numeros.append(x)\n",
    "    \n",
    "    print(numeros)#DENTRO DA ESTRUTURA for."
   ]
  },
  {
   "cell_type": "markdown",
   "id": "607a9193",
   "metadata": {},
   "source": [
    "### Exercício 09 - Faça um programa que imprima na tela apenas os números ímpares entre 1 e 50."
   ]
  },
  {
   "cell_type": "code",
   "execution_count": null,
   "id": "79c4dc36",
   "metadata": {},
   "outputs": [],
   "source": [
    "lista = range(1,50,) #USANDO A ESTRUTURA ACIMA\n",
    "\n",
    "numeros = []\n",
    "\n",
    "for impar in lista:\n",
    "    if impar % 2 != 0:\n",
    "        numeros.append(impar)\n",
    "    \n",
    "print(numeros)"
   ]
  },
  {
   "cell_type": "markdown",
   "id": "98bd7099",
   "metadata": {},
   "source": [
    "### Exercício 09 - Faça um programa que imprima na tela apenas os números multiplos de 3 entre 1 e 50."
   ]
  },
  {
   "cell_type": "code",
   "execution_count": null,
   "id": "b6c9c0d6",
   "metadata": {},
   "outputs": [],
   "source": [
    "lista = range(1,50,) #USANDO A ESTRUTURA ACIMA\n",
    "\n",
    "numeros = []\n",
    "\n",
    "for impar in lista:\n",
    "    if impar % 3 == 0:\n",
    "        numeros.append(impar)\n",
    "    \n",
    "print(numeros)"
   ]
  },
  {
   "cell_type": "markdown",
   "id": "b1b01099",
   "metadata": {},
   "source": [
    "### Exercício 09 - Faça um programa que imprima na tela apenas os números multiplos de 3 entre 1 e 50 exeto ele mesmo."
   ]
  },
  {
   "cell_type": "code",
   "execution_count": null,
   "id": "71865002",
   "metadata": {},
   "outputs": [],
   "source": [
    "lista = range(1,50,) #USANDO A ESTRUTURA ACIMA\n",
    "\n",
    "numeros = []\n",
    "\n",
    "for impar in lista:\n",
    "    if impar % 3 == 0 and impar !=3:\n",
    "        numeros.append(impar)\n",
    "    \n",
    "print(numeros)"
   ]
  },
  {
   "cell_type": "markdown",
   "id": "7b512401",
   "metadata": {},
   "source": [
    "#### Exercício 07 - Faça um programa que leia 5 números e informe o maior número."
   ]
  },
  {
   "cell_type": "code",
   "execution_count": null,
   "id": "292c9325",
   "metadata": {},
   "outputs": [],
   "source": [
    "controle = range(0,5)\n",
    "\n",
    "numeros = []\n",
    "\n",
    "for x in controle:\n",
    "    num = int(input('Digite um numero, please: '))\n",
    "    numeros.append(num)\n",
    "    \n",
    "maior = max(numeros)\n",
    "menor = min(numeros)\n",
    "\n",
    "print(f'O maior valor da lista é {maior} e o menor é {menor}.')"
   ]
  },
  {
   "cell_type": "markdown",
   "id": "4b69880f",
   "metadata": {},
   "source": [
    "### Exercício 12 - Desenvolva um gerador de tabuada, capaz de gerar a tabuada de qualquer número inteiro entre 1 a 10. O usuário deve informar de qual numero ele deseja ver a tabuada. A saída deve ser conforme o exemplo abaixo:"
   ]
  },
  {
   "cell_type": "code",
   "execution_count": 13,
   "id": "ce8cc127",
   "metadata": {},
   "outputs": [
    {
     "name": "stdout",
     "output_type": "stream",
     "text": [
      "Digite um numero entre 0 e 10;5\n",
      "5 x 1 = 5\n",
      "5 x 2 = 10\n",
      "5 x 3 = 15\n",
      "5 x 4 = 20\n",
      "5 x 5 = 25\n",
      "5 x 6 = 30\n",
      "5 x 7 = 35\n",
      "5 x 8 = 40\n",
      "5 x 9 = 45\n",
      "5 x 10 = 50\n"
     ]
    }
   ],
   "source": [
    "num = int(input(\"Digite um numero entre 0 e 10;\"))\n",
    "\n",
    "mult = range(1,11)\n",
    "\n",
    "for x in mult:\n",
    "    resultado = num * x\n",
    "    print(f'{num} x {x} = {resultado}')"
   ]
  },
  {
   "cell_type": "code",
   "execution_count": null,
   "id": "3a66d671",
   "metadata": {},
   "outputs": [],
   "source": []
  }
 ],
 "metadata": {
  "kernelspec": {
   "display_name": "Python 3 (ipykernel)",
   "language": "python",
   "name": "python3"
  },
  "language_info": {
   "codemirror_mode": {
    "name": "ipython",
    "version": 3
   },
   "file_extension": ".py",
   "mimetype": "text/x-python",
   "name": "python",
   "nbconvert_exporter": "python",
   "pygments_lexer": "ipython3",
   "version": "3.10.9"
  }
 },
 "nbformat": 4,
 "nbformat_minor": 5
}
