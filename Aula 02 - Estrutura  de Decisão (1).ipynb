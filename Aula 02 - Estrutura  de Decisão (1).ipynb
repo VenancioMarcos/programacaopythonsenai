{
 "cells": [
  {
   "cell_type": "markdown",
   "id": "50dcd311",
   "metadata": {},
   "source": [
    "### Exercício 01\n",
    "Crie uma variável chamada \"idade\" e atribua um valor inteiro a ela. \n",
    "Verifique se a idade é maior ou igual a 18 e imprima \"Maior de idade\" ou \"Menor de \n",
    "idade\" de acordo com a condição.\n",
    "\n",
    "### Operações Relacionadas\n",
    "\n",
    "    == igual \n",
    "    > maior \n",
    "    < menor \n",
    "    >= maior ou igual \n",
    "    <= menor ou igual \n",
    "    != diferente\n",
    "    if verdadeiro\n",
    "    else falso\n",
    "    elif nulo"
   ]
  },
  {
   "cell_type": "code",
   "execution_count": null,
   "id": "d9454627",
   "metadata": {},
   "outputs": [],
   "source": [
    "idade = input (\"Digite sua idade: \")\n",
    "idade = int(idade)\n",
    "\n",
    "#Informar Idade\n",
    "if idade < 18:\n",
    "    print(\"Menor de idade.\")\n",
    "else:\n",
    "    print(\"Maior de idade.\")"
   ]
  },
  {
   "cell_type": "markdown",
   "id": "9aa76b5a",
   "metadata": {},
   "source": [
    "Exercício 02 - Crie uma variável chamada \"número\" e atribua um valor inteiro a ela. \n",
    "Verifique se o número é positivo, negativo ou zero e imprima a mensagem \n",
    "correspondente."
   ]
  },
  {
   "cell_type": "code",
   "execution_count": null,
   "id": "50b244e1",
   "metadata": {},
   "outputs": [],
   "source": [
    "numero = input (\"Digite um numero inteiro: \")\n",
    "numero = int(numero)\n",
    "\n",
    "#Informar se é verdadeiro, falso ou nulo\n",
    "if numero < 0:\n",
    "    print(\"Negativo\")\n",
    "elif numero > 0:\n",
    "    print(\"Positivo.\")\n",
    "else: \n",
    "    print(\"Nulo\")"
   ]
  },
  {
   "cell_type": "markdown",
   "id": "faaf1e46",
   "metadata": {},
   "source": [
    "Exercício 03 - Crie duas variáveis, \"nota1\" e \"nota2\", e atribua valores numéricos a elas. \n",
    "Verifique se a média das notas é maior ou igual a 7 e imprima \"Aprovado\" ou \n",
    "\"Reprovado\" de acordo com a condição."
   ]
  },
  {
   "cell_type": "code",
   "execution_count": null,
   "id": "3f299a79",
   "metadata": {},
   "outputs": [],
   "source": [
    "nota1 = input (\"Digite not 1: \")\n",
    "nota1 = int(nota1)\n",
    "\n",
    "nota2 = input (\"Digite nota 2: \")\n",
    "nota2 = int(nota2)\n",
    "\n",
    "media = (nota1 + nota2)/2\n",
    "\n",
    "#Informar se aprovado ou reprovado\n",
    "\n",
    "if media >= 7:\n",
    "    print(\"Aprovado\")\n",
    "else:\n",
    "    print(\"Reprovado\")"
   ]
  },
  {
   "cell_type": "code",
   "execution_count": null,
   "id": "68ee42d1",
   "metadata": {},
   "outputs": [],
   "source": [
    "nota1 = input (\"Digite not 1: \")\n",
    "nota1 = int(nota1)\n",
    "\n",
    "nota2 = input (\"Digite nota 2: \")\n",
    "nota2 = int(nota2)\n",
    "\n",
    "media = (nota1 + nota2)/2\n",
    "\n",
    "#Informar se aluno está aprovado ou reprovado.\n",
    "\n",
    "if media >= 7:\n",
    "    print(f'Parabéns, você está, aprovado. Sua media foi {media}')\n",
    "else:\n",
    "    print(f'Chore, você está, reprovado. Sua media foi {media}')    "
   ]
  },
  {
   "cell_type": "markdown",
   "id": "a74ca5fb",
   "metadata": {},
   "source": [
    "Exercício 04 - Crie uma variável chamada \"idade\" e atribua um valor inteiro a ela. \n",
    "Verifique se a idade está dentro do intervalo de 18 a 30 (inclusive) e imprima a \n",
    "mensagem \"Idade válida\" ou \"Idade inválida\" de acordo com a condição.\n"
   ]
  },
  {
   "cell_type": "code",
   "execution_count": null,
   "id": "be6157b2",
   "metadata": {},
   "outputs": [],
   "source": [
    "idade = int(input(\"Digite sua idade: \"))\n",
    "\n",
    "#Informar Idade\n",
    "if idade >= 18 and idade <= 30:\n",
    "    print(\"idade valida.\")\n",
    "else:\n",
    "    print(\"idade invalida.\")"
   ]
  },
  {
   "cell_type": "markdown",
   "id": "5a32b7ce",
   "metadata": {},
   "source": [
    "Exercício 05 - Crie uma variável chamada \"numero\" e atribua um valor inteiro a ela. \n",
    "Verifique se o número é par ou ímpar e imprima a mensagem correspondente."
   ]
  },
  {
   "cell_type": "code",
   "execution_count": null,
   "id": "1db4fdee",
   "metadata": {},
   "outputs": [],
   "source": [
    "numero = int(input(\"Digite um numero: \"))\n",
    "\n",
    "#Informar se numero é Par ou Impar.\n",
    "if numero % 2 == 0:\n",
    "    print(\"Par\")\n",
    "else:\n",
    "    print(\"Impar\")"
   ]
  },
  {
   "cell_type": "markdown",
   "id": "2ce49836",
   "metadata": {},
   "source": [
    "Exercício 06 - Crie uma variável chamada \"horario\" e atribua um valor inteiro \n",
    "representando a hora do dia (em formato 24 horas). Verifique se o horário está dentro \n",
    "do período da manhã (das 6h às 12h), da tarde (das 12h às 18h) ou da noite (das 18h \n",
    "às 23h) e imprima a mensagem correspondente."
   ]
  },
  {
   "cell_type": "code",
   "execution_count": null,
   "id": "ca40ea3b",
   "metadata": {},
   "outputs": [],
   "source": [
    "horario = int(input(\"Digite horario: \"))\n",
    "\n",
    "#Informar se horario esta dentro de qual periodo.\n",
    "if horario >= 6 and horario < 12:\n",
    "    print(\"Bom dia\")\n",
    "elif horario >= 13 and horario < 18: \n",
    "    print(\"Boa tarde\")\n",
    "elif horario >= 18 and horario <= 23: \n",
    "    print(\"Boa noite\")\n",
    "elif horario >= 0 and horario < 6: \n",
    "    print(\"Boa madrugada\")\n",
    "else:\n",
    "    print(\"Horario invalido\")"
   ]
  },
  {
   "cell_type": "markdown",
   "id": "d90764a5",
   "metadata": {},
   "source": [
    "Exercício 07 - Crie uma variável chamada \"peso\" e atribua um valor numérico a ela. \n",
    "Verifique se o peso está dentro do intervalo de 50 a 100 (inclusive) e imprima a \n",
    "mensagem \"Peso válido\" ou \"Peso inválido\" de acordo com a condição."
   ]
  },
  {
   "cell_type": "code",
   "execution_count": null,
   "id": "18a4534d",
   "metadata": {},
   "outputs": [],
   "source": [
    "Peso = int(input(\"fazer em casa: \"))"
   ]
  },
  {
   "cell_type": "markdown",
   "id": "c552053a",
   "metadata": {},
   "source": [
    "Exercício 08 - Crie uma variável chamada \"numero\" e atribua um valor inteiro a ela. \n",
    "Verifique se o número é múltiplo de 3 e de 5 ao mesmo tempo e imprima a mensagem \n",
    "correspondente."
   ]
  },
  {
   "cell_type": "code",
   "execution_count": null,
   "id": "4c052380",
   "metadata": {},
   "outputs": [],
   "source": [
    "numero = int(input(\"fazer em casa: \"))"
   ]
  },
  {
   "cell_type": "markdown",
   "id": "c79a0f49",
   "metadata": {},
   "source": [
    "Exercício 09 - Crie uma variável chamada \"ano\" e atribua um valor inteiro \n",
    "representando um ano. Verifique se o ano é bissexto (divisível por 4, mas não por 100, \n",
    "exceto se for divisível por 400) e imprima a mensagem correspondente."
   ]
  },
  {
   "cell_type": "code",
   "execution_count": null,
   "id": "84ed0f6c",
   "metadata": {},
   "outputs": [],
   "source": [
    "numero = int(input(\"fazer em casa: \"))"
   ]
  },
  {
   "cell_type": "markdown",
   "id": "2ec0900b",
   "metadata": {},
   "source": [
    "Exercício 10 - Crie uma variável chamada \"salario\" e atribua um valor numérico a ela. \n",
    "Verifique se o salário é maior do que 1000 e menor do que 2000 ao mesmo tempo e \n",
    "imprima a mensagem correspondente."
   ]
  },
  {
   "cell_type": "code",
   "execution_count": null,
   "id": "569c75f3",
   "metadata": {},
   "outputs": [],
   "source": [
    "numero = int(input(\"fazer em casa: \"))"
   ]
  },
  {
   "cell_type": "markdown",
   "id": "71882814",
   "metadata": {},
   "source": [
    "Exercício 11 - Faça um Programa que peça dois números e imprima o maior deles."
   ]
  },
  {
   "cell_type": "code",
   "execution_count": 21,
   "id": "dd5e1d8e",
   "metadata": {},
   "outputs": [
    {
     "name": "stdout",
     "output_type": "stream",
     "text": [
      "Digite um numero: 2000\n",
      "Digite outro numero: 1999\n",
      "Numero 2000, é maior numero digitado.\n"
     ]
    }
   ],
   "source": [
    "nota1 = input (\"Digite um numero: \")\n",
    "nota1 = int(nota1)\n",
    "\n",
    "nota2 = input (\"Digite outro numero: \")\n",
    "nota2 = int(nota2)\n",
    "\n",
    "#Informar o maior entre eles.\n",
    "\n",
    "if nota1 >= nota2:\n",
    "    print(f\"Numero {nota1}, é maior numero digitado.\")\n",
    "else:\n",
    "    print(f\"Numero {nota2}, é maior numero digitado.\")"
   ]
  },
  {
   "cell_type": "markdown",
   "id": "da01007d",
   "metadata": {},
   "source": [
    "Exercício 12 - Faça um Programa que peça um valor e mostre na tela se o valor é \n",
    "positivo ou negativo."
   ]
  },
  {
   "cell_type": "code",
   "execution_count": 27,
   "id": "87329495",
   "metadata": {},
   "outputs": [
    {
     "name": "stdout",
     "output_type": "stream",
     "text": [
      "Digite um valor: +3\n",
      "Numero 3, é Positivo.\n"
     ]
    }
   ],
   "source": [
    "numero = input (\"Digite um valor: \")\n",
    "numero = int(numero)\n",
    "\n",
    "#Informar se é verdadeiro, falso ou nulo\n",
    "if numero < 0:\n",
    "    print(f\"Numero {numero}, é Negativo.\")\n",
    "elif numero > 0:\n",
    "    print(f\"Numero {numero}, é Positivo.\")\n",
    "else: \n",
    "    print(f\"Numero {numero}, é Nulo.\")"
   ]
  },
  {
   "cell_type": "markdown",
   "id": "2e57316e",
   "metadata": {},
   "source": [
    "Exercício 13 - Faça um Programa que verifique se uma letra digitada é \"F\" ou \"M\". \n",
    "Conforme a letra escrever: F - Feminino, M - Masculino, Sexo Inválido."
   ]
  },
  {
   "cell_type": "code",
   "execution_count": 1,
   "id": "247e8aaf",
   "metadata": {},
   "outputs": [
    {
     "data": {
      "text/plain": [
       "Ellipsis"
      ]
     },
     "execution_count": 1,
     "metadata": {},
     "output_type": "execute_result"
    }
   ],
   "source": [
    "..."
   ]
  },
  {
   "cell_type": "markdown",
   "id": "c64c026c",
   "metadata": {},
   "source": [
    "Exercício 16 - Faça um Programa que leia três números e mostre o maior deles"
   ]
  },
  {
   "cell_type": "code",
   "execution_count": 19,
   "id": "41cd057a",
   "metadata": {},
   "outputs": [
    {
     "name": "stdout",
     "output_type": "stream",
     "text": [
      "Digite o primeiro valor: 30\n",
      "Digite o segundo valor: 20\n",
      "Digite o terceiro valor: 40\n",
      "40 30 20\n"
     ]
    }
   ],
   "source": [
    "num1 = int(input(\"Digite o primeiro valor: \"))\n",
    "num2 = int(input(\"Digite o segundo valor: \"))\n",
    "num3 = int(input(\"Digite o terceiro valor: \"))\n",
    "\n",
    "#Avaliando cenario 01\n",
    "\n",
    "if (num1 > num2) and (num1 > num3):\n",
    "    if num2 > num3:\n",
    "        print(num1, num2, num3)\n",
    "    else:\n",
    "        print(num1, num3, num2)\n",
    "        \n",
    "#Avaliando cenario 02\n",
    "\n",
    "elif (num2 > num1) and (num2 > num3):\n",
    "    if num1 > num3:\n",
    "        print(num2, num1, num3)\n",
    "    else:\n",
    "        print(num2, num3, num1)\n",
    "        \n",
    "#Avaliando cenario 03\n",
    "\n",
    "elif (num3 > num1) and (num3 > num2):\n",
    "    if num1 > num2:\n",
    "        print(num3, num1, num2)\n",
    "    else:\n",
    "        print(num3, num2, num1)"
   ]
  },
  {
   "cell_type": "markdown",
   "id": "64ad91a7",
   "metadata": {},
   "source": [
    "Exercício 17 - Faça um Programa que leia três números e mostre o maior e o menor \n",
    "deles."
   ]
  },
  {
   "cell_type": "code",
   "execution_count": 29,
   "id": "ce2ed4b4",
   "metadata": {},
   "outputs": [
    {
     "name": "stdout",
     "output_type": "stream",
     "text": [
      "Digite o primeiro valor: 1\n",
      "Digite o segundo valor: 2\n",
      "Digite o terceiro valor: 3\n",
      "3 1\n"
     ]
    }
   ],
   "source": [
    " num1 = int(input(\"Digite o primeiro valor: \"))\n",
    "num2 = int(input(\"Digite o segundo valor: \"))\n",
    "num3 = int(input(\"Digite o terceiro valor: \"))\n",
    "\n",
    "#01\n",
    "\n",
    "if (num1 > num2) and (num1 > num3):\n",
    "    if num2 > num3:\n",
    "        print(num1, num3)\n",
    "    else:\n",
    "        print(num1, num2)\n",
    "        \n",
    "#02\n",
    "\n",
    "elif(num2 > num1) and (num2 > num3):\n",
    "    if num1 > num3:\n",
    "        print(num2, num3)\n",
    "    else:\n",
    "        print(num2, num1)\n",
    "        \n",
    "#03\n",
    "\n",
    "elif(num3 > num1) and (num3 > num2):\n",
    "    if num1 > num2:\n",
    "        print(num3, num2)\n",
    "    else:\n",
    "        print(num3, num1)"
   ]
  },
  {
   "cell_type": "markdown",
   "id": "bbc07e35",
   "metadata": {},
   "source": [
    "Exercício 21 - As Organizações Tabajara resolveram dar um aumento de salário aos \n",
    "seus colaboradores e lhe contaram para desenvolver o programa que calculará os \n",
    "reajustes. Faça um programa que recebe o salário de um colaborador e o reajuste \n",
    "segundo o seguinte critério, baseado no salário atual: "
   ]
  },
  {
   "cell_type": "code",
   "execution_count": null,
   "id": "d998141c",
   "metadata": {},
   "outputs": [],
   "source": [
    "print(\"calculo de aumemento salarial 2023. \")\n",
    "\n",
    "salario = float(imput(\"informe o seu salario. \"))\n",
    "\n",
    "print(\".........\")\n",
    "\n",
    "#DEFININDO O VALOR DO AUMENTO\n",
    "\n",
    "if salario <= 280:\n",
    "    aumento = 0.2\n",
    "elif(salario > 280) and (salario <= 700)\n",
    "    aumento = 0.15\n",
    "elif(salario > 700) and (salario <= 1500)\n",
    "    aumento = 0.10\n",
    "else:\n",
    "    aumento = 0.05\n",
    "\n",
    "\n"
   ]
  }
 ],
 "metadata": {
  "kernelspec": {
   "display_name": "Python 3 (ipykernel)",
   "language": "python",
   "name": "python3"
  },
  "language_info": {
   "codemirror_mode": {
    "name": "ipython",
    "version": 3
   },
   "file_extension": ".py",
   "mimetype": "text/x-python",
   "name": "python",
   "nbconvert_exporter": "python",
   "pygments_lexer": "ipython3",
   "version": "3.10.9"
  }
 },
 "nbformat": 4,
 "nbformat_minor": 5
}
