{
 "cells": [
  {
   "cell_type": "code",
   "execution_count": 2,
   "metadata": {},
   "outputs": [
    {
     "name": "stdout",
     "output_type": "stream",
     "text": [
      "A idade do nadadoe é 10, e sua categoria do nadadoe é infantil B.\n"
     ]
    }
   ],
   "source": [
    "def categoria(idade):\n",
    "    idade = int(idade)\n",
    "\n",
    "    if idade >= 5 and idade <= 7:\n",
    "      resultado = 'infantil A'\n",
    "    elif idade >= 8 and idade <= 10:\n",
    "       resultado = 'infantil B'\n",
    "    elif idade >= 11 and idade <= 13:\n",
    "       resultado = 'juvenil A'\n",
    "    elif idade >= 14 and idade <= 17:\n",
    "       resultado = 'juvenil B'\n",
    "    else:\n",
    "       resultado = 'Adulto'\n",
    "\n",
    "    return resultado\n",
    "\n",
    "idade_nadador = input(\"digite idade\")\n",
    "\n",
    "print (f'A idade do nadadoe é {idade_nadador}, e sua categoria do nadadoe é {categoria(idade_nadador)}.')"
   ]
  }
 ],
 "metadata": {
  "kernelspec": {
   "display_name": "Python 3",
   "language": "python",
   "name": "python3"
  },
  "language_info": {
   "codemirror_mode": {
    "name": "ipython",
    "version": 3
   },
   "file_extension": ".py",
   "mimetype": "text/x-python",
   "name": "python",
   "nbconvert_exporter": "python",
   "pygments_lexer": "ipython3",
   "version": "3.11.0"
  },
  "orig_nbformat": 4
 },
 "nbformat": 4,
 "nbformat_minor": 2
}
