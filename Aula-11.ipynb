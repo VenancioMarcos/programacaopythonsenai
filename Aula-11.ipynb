{
 "cells": [
  {
   "cell_type": "markdown",
   "metadata": {},
   "source": [
    "# LISTA DE EXERCÍCIOS 09 – CONSTRUINDO FUNÇÕES EM PYTHON"
   ]
  },
  {
   "cell_type": "markdown",
   "metadata": {},
   "source": [
    "#Aula 11 - Aplicação das Funções"
   ]
  },
  {
   "cell_type": "markdown",
   "metadata": {},
   "source": [
    "#1. ESCREVA UM A FUNÇÃO PYTHON PARA ENCONTARA O MAXIMO ENTRE DOIS VALORES."
   ]
  },
  {
   "cell_type": "code",
   "execution_count": 15,
   "metadata": {},
   "outputs": [],
   "source": [
    "def max_dois_valores (num1, num2):\n",
    "    if num1 > num2:\n",
    "        return num1\n",
    "    else:\n",
    "        return num2"
   ]
  },
  {
   "cell_type": "code",
   "execution_count": 16,
   "metadata": {},
   "outputs": [
    {
     "data": {
      "text/plain": [
       "30"
      ]
     },
     "execution_count": 16,
     "metadata": {},
     "output_type": "execute_result"
    }
   ],
   "source": [
    "max_dois_valores (10, 30)"
   ]
  },
  {
   "cell_type": "markdown",
   "metadata": {},
   "source": [
    "#2. ESCREVA UM A FUNÇÃO PYTHON PARA ENCONTARA O MAXIMO ENTRE TRES VALORES."
   ]
  },
  {
   "cell_type": "code",
   "execution_count": 18,
   "metadata": {},
   "outputs": [],
   "source": [
    "def max_dois_valores (num1, num2):\n",
    "    if num1 > num2:\n",
    "        return num1\n",
    "    else:\n",
    "        return num2\n",
    "    \n",
    "def max_tres_valores (num1, num2, num3):\n",
    "    return max_dois_valores(num1, max_dois_valores(num2, num3))\n"
   ]
  },
  {
   "cell_type": "code",
   "execution_count": 19,
   "metadata": {},
   "outputs": [
    {
     "data": {
      "text/plain": [
       "30"
      ]
     },
     "execution_count": 19,
     "metadata": {},
     "output_type": "execute_result"
    }
   ],
   "source": [
    "max_tres_valores(10, 20, 30)\n"
   ]
  },
  {
   "cell_type": "markdown",
   "metadata": {},
   "source": [
    "Exercício 01. Faça uma função que recebe por parâmetro o raio de uma esfera e calcula o seu volume (v = 4/3.P .R3)."
   ]
  },
  {
   "cell_type": "code",
   "execution_count": 20,
   "metadata": {},
   "outputs": [],
   "source": [
    "import numpy as np\n",
    "\n",
    "def volume_esfera(raio):\n",
    "    pi = np.pi\n",
    "    volume = 4/3 * pi * raio ** 3\n",
    "\n",
    "    return volume\n"
   ]
  },
  {
   "cell_type": "code",
   "execution_count": 21,
   "metadata": {},
   "outputs": [
    {
     "data": {
      "text/plain": [
       "4188.790204786391"
      ]
     },
     "execution_count": 21,
     "metadata": {},
     "output_type": "execute_result"
    }
   ],
   "source": [
    "volume_esfera(10)"
   ]
  },
  {
   "cell_type": "code",
   "execution_count": 22,
   "metadata": {},
   "outputs": [
    {
     "data": {
      "text/plain": [
       "113097.33552923254"
      ]
     },
     "execution_count": 22,
     "metadata": {},
     "output_type": "execute_result"
    }
   ],
   "source": [
    "volume_esfera(30)"
   ]
  },
  {
   "cell_type": "markdown",
   "metadata": {},
   "source": [
    "Exercício 02. Escreva um procedimento que recebe as 3 notas de um aluno por parâmetro e uma letra...\n",
    "Se a letra for A o procedimento calcula a média aritmética das notas do aluno, se for P, a sua média ponderada (pesos: 5, 3 e 2) e se for H, a sua média harmônica...\n",
    "A média calculada também deve retornar por parâmetro."
   ]
  },
  {
   "cell_type": "code",
   "execution_count": 23,
   "metadata": {},
   "outputs": [],
   "source": [
    "def media_aritmetica (num1, num2, num3):\n",
    "    soma = num1 + num2 + num3\n",
    "    media = soma/3\n",
    "    return media\n",
    "\n",
    "def media_ponderada(num1, num2, num3):\n",
    "    soma = num1*5 + num2*3 + num3*3\n",
    "    media = soma/10\n",
    "    return media\n",
    "\n",
    "def media_harmonica(num1, num2, num3):\n",
    "    qtdeTermos = 3\n",
    "    soma = 1/num1 + 1/num2 + 1/num3\n",
    "    media = qtdeTermos/soma\n",
    "    return media\n",
    "\n",
    "def media_final (num1, num2, num3, tipo):\n",
    "    if tipo.upper() == 'A': #função (upper) transforma qualquer letra digita em maiuscula.\n",
    "        return media_aritmetica(num1, num2, num3)\n",
    "    elif tipo.upper() == 'P':\n",
    "        return media_ponderada(num1, num2, num3)\n",
    "    elif tipo.upper() == 'H':\n",
    "        return media_harmonica(num1, num2, num3)\n",
    "    \n",
    "print ('resultado da função media final', media_final(10, 8, 5))\n",
    "#print ('resultado da função media final', media_aritmetica(10, 8, 5))\n",
    "#print ('resultado da função media final', media_ponderada(10, 8, 5))\n",
    "#print ('resultado da função media final', media_harmonica(10, 8, 5))\n",
    "    "
   ]
  },
  {
   "cell_type": "code",
   "execution_count": 28,
   "metadata": {},
   "outputs": [
    {
     "data": {
      "text/plain": [
       "9.5"
      ]
     },
     "execution_count": 28,
     "metadata": {},
     "output_type": "execute_result"
    }
   ],
   "source": [
    "media_final(10, 9, 6, 'p')"
   ]
  },
  {
   "cell_type": "code",
   "execution_count": 29,
   "metadata": {},
   "outputs": [
    {
     "data": {
      "text/plain": [
       "9.5"
      ]
     },
     "execution_count": 29,
     "metadata": {},
     "output_type": "execute_result"
    }
   ],
   "source": [
    "media_ponderada(10,9,6)"
   ]
  },
  {
   "cell_type": "markdown",
   "metadata": {},
   "source": [
    "Exercício 08. Faça um procedimento que recebe a idade de um nadador por parâmetro e\n",
    "retorna, também por parâmetro, a categoria desse nadador de acordo com a tabela abaixo:"
   ]
  },
  {
   "cell_type": "code",
   "execution_count": 53,
   "metadata": {},
   "outputs": [
    {
     "name": "stdout",
     "output_type": "stream",
     "text": [
      "A categoria do nadadoe é: Idade invalida\n"
     ]
    }
   ],
   "source": [
    "def categoria(idade):\n",
    "    idade = int(idade)\n",
    "\n",
    "    if idade >= 5 and idade <= 7:\n",
    "      resultado = 'infantil A'\n",
    "    elif idade >= 8 and idade <= 10:\n",
    "       resultado = 'infantil B'\n",
    "    elif idade >= 11 and idade <= 13:\n",
    "       resultado = 'juvenil A'\n",
    "    elif idade >= 14 and idade <= 17:\n",
    "       resultado = 'juvenil B'\n",
    "    elif idade >= 18:\n",
    "       resultado = 'Adulto'\n",
    "    else:  \n",
    "      resultado = 'Idade invalida'\n",
    "   \n",
    "\n",
    "    return resultado\n",
    "\n",
    "idade_nadador = input(\"digite idade\")\n",
    "\n",
    "print ('A categoria do nadadoe é:', categoria(idade_nadador))\n",
    "\n"
   ]
  }
 ],
 "metadata": {
  "kernelspec": {
   "display_name": "Python 3",
   "language": "python",
   "name": "python3"
  },
  "language_info": {
   "codemirror_mode": {
    "name": "ipython",
    "version": 3
   },
   "file_extension": ".py",
   "mimetype": "text/x-python",
   "name": "python",
   "nbconvert_exporter": "python",
   "pygments_lexer": "ipython3",
   "version": "3.11.0"
  },
  "orig_nbformat": 4
 },
 "nbformat": 4,
 "nbformat_minor": 2
}
