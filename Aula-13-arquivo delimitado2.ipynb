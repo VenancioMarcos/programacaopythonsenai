{
 "cells": [
  {
   "cell_type": "code",
   "execution_count": null,
   "metadata": {},
   "outputs": [],
   "source": []
  },
  {
   "cell_type": "code",
   "execution_count": 2,
   "metadata": {},
   "outputs": [],
   "source": [
    "import openpyxl\n",
    "\n",
    "#Arquivo Texto Delimitado Virgula.txt\n",
    "\n",
    "caminho = 'C:\\\\Users\\\\FIC\\\\Documents\\\\Marcos.Venancio-Python\\\\'\n",
    "\n",
    "arquivo = 'Arquivo Texto Delimitado Virgula.txt'\n",
    "\n",
    "file = open(caminho + arquivo,'r')\n",
    "\n",
    "arquivo = file.read()\n",
    "\n",
    "lista_dados = arquivo.splitlines()\n",
    "\n",
    "for i in range(0, len(lista_dados)):\n",
    "    lista_dados[i] = lista_dados[i].replace('\"','')\n",
    "    lista_dados[i] = lista_dados[i].split(',')\n",
    "\n",
    "#print(lista_dados)\n",
    "\n",
    "workbook = openpyxl.Workbook()\n",
    "\n",
    "planilha = workbook.active\n",
    "\n",
    "for linha in lista_dados:\n",
    "    planilha.append(linha)\n",
    "\n",
    "workbook.save(filename= caminho + 'Arquivo_Novo2.xlsx')"
   ]
  }
 ],
 "metadata": {
  "kernelspec": {
   "display_name": "Python 3",
   "language": "python",
   "name": "python3"
  },
  "language_info": {
   "codemirror_mode": {
    "name": "ipython",
    "version": 3
   },
   "file_extension": ".py",
   "mimetype": "text/x-python",
   "name": "python",
   "nbconvert_exporter": "python",
   "pygments_lexer": "ipython3",
   "version": "3.11.0"
  },
  "orig_nbformat": 4
 },
 "nbformat": 4,
 "nbformat_minor": 2
}
