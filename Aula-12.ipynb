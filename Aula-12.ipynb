{
 "cells": [
  {
   "cell_type": "markdown",
   "metadata": {},
   "source": [
    "CRIANDO FUNÇÕES NO PYTHON\n",
    "\n",
    "Buid-in\n",
    "sum\n",
    "max\n",
    "min\n",
    "\n",
    "def por nome da função(Argumentos)\n",
    "\n",
    "....ação da função\n",
    "\n",
    "return"
   ]
  },
  {
   "cell_type": "code",
   "execution_count": 9,
   "metadata": {},
   "outputs": [],
   "source": [
    "#EXERCICIO-10\n",
    "\n",
    "def par_ou_impar(numero):\n",
    "\n",
    "    numero = int(numero)\n",
    "\n",
    "    if numero%2 == 0:\n",
    "\n",
    "        resultado =True\n",
    "    \n",
    "    else:\n",
    "        resultado = False\n",
    "\n",
    "    return resultado\n"
   ]
  },
  {
   "cell_type": "code",
   "execution_count": 16,
   "metadata": {},
   "outputs": [
    {
     "name": "stdout",
     "output_type": "stream",
     "text": [
      "O numero 10, e sua categoria do nadador é True.\n"
     ]
    }
   ],
   "source": [
    "valor = input(\"digite um numero: \")\n",
    "\n",
    "par_ou_impar(valor)\n",
    "\n",
    "print (f'O numero {valor}, é um numero {par_ou_impar(valor)}.')"
   ]
  },
  {
   "cell_type": "code",
   "execution_count": 48,
   "metadata": {},
   "outputs": [
    {
     "name": "stdout",
     "output_type": "stream",
     "text": [
      "O numero 11, é um numero False.\n"
     ]
    }
   ],
   "source": [
    "valor = input(\"digite um numero: \")\n",
    "\n",
    "par_ou_impar(valor)\n",
    "\n",
    "print (f'O numero {valor}, é um numero {par_ou_impar(valor)}.')"
   ]
  },
  {
   "cell_type": "code",
   "execution_count": 14,
   "metadata": {},
   "outputs": [],
   "source": [
    "#EXERCICIO_11\n",
    "\n",
    "def conceito_final(nota):\n",
    "    \n",
    "    nota = float(nota)\n",
    "\n",
    "    if nota >= 0 and nota <= 4.9:\n",
    "        conceito = 'D'\n",
    "\n",
    "    elif nota >= 5 and nota <= 6.9:\n",
    "        conceito = 'C'\n",
    "\n",
    "    elif nota >= 7 and nota <= 8.9:\n",
    "        conceito = 'B'\n",
    "\n",
    "    elif nota >= 9 and nota <= 10:\n",
    "        conceito = 'A'\n",
    "\n",
    "    else:\n",
    "        conceito = 'Digite sua nota.'\n",
    "\n",
    "    return conceito"
   ]
  },
  {
   "cell_type": "code",
   "execution_count": 26,
   "metadata": {},
   "outputs": [
    {
     "data": {
      "text/plain": [
       "'B'"
      ]
     },
     "execution_count": 26,
     "metadata": {},
     "output_type": "execute_result"
    }
   ],
   "source": [
    "nota = input('Informe sua nota. ')\n",
    "\n",
    "conceito_final(nota)"
   ]
  },
  {
   "cell_type": "code",
   "execution_count": 23,
   "metadata": {},
   "outputs": [],
   "source": [
    "#EXERCICIO_12\n",
    "\n",
    "def peso_ideal(altura, genero):\n",
    "\n",
    "    genero = genero.lower()\n",
    "    altura = float(altura)\n",
    "\n",
    "    if genero == 'h':\n",
    "        result = round(72.7 * altura - 58)\n",
    "\n",
    "    elif genero == 'm':\n",
    "        result = round(62.1 * altura - 44.7)\n",
    "\n",
    "    else:\n",
    "        result = 'Digite uma letra valida. [H] Homem [M] Mulher.'\n",
    "\n",
    "    return resulth\n"
   ]
  },
  {
   "cell_type": "code",
   "execution_count": 24,
   "metadata": {},
   "outputs": [
    {
     "data": {
      "text/plain": [
       "66"
      ]
     },
     "execution_count": 24,
     "metadata": {},
     "output_type": "execute_result"
    }
   ],
   "source": [
    "alt = input('Informe sua altura. ')\n",
    "gen = input('Qual genero voce se identifica? ')\n",
    "\n",
    "peso_ideal(genero=gen, altura=alt)"
   ]
  },
  {
   "cell_type": "code",
   "execution_count": null,
   "metadata": {},
   "outputs": [],
   "source": [
    "#EXERCICIO_13\n",
    "\n"
   ]
  }
 ],
 "metadata": {
  "kernelspec": {
   "display_name": "Python 3",
   "language": "python",
   "name": "python3"
  },
  "language_info": {
   "codemirror_mode": {
    "name": "ipython",
    "version": 3
   },
   "file_extension": ".py",
   "mimetype": "text/x-python",
   "name": "python",
   "nbconvert_exporter": "python",
   "pygments_lexer": "ipython3",
   "version": "3.11.0"
  },
  "orig_nbformat": 4
 },
 "nbformat": 4,
 "nbformat_minor": 2
}
