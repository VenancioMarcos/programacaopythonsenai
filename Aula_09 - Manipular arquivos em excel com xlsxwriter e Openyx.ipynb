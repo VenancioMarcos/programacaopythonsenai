{
 "cells": [
  {
   "cell_type": "markdown",
   "id": "9c3200a7",
   "metadata": {},
   "source": [
    "#### Aula 09 - (02/08/2023)\n",
    "#### Programação em Python\n",
    "#### Objetivo da Aula;\n",
    "#### -manipular arquivos em excel com xlsxwriter e Openyx\n",
    "#### -gerenciar arquivos com a biblioteca O.S.\n"
   ]
  },
  {
   "cell_type": "markdown",
   "id": "e178bc9c",
   "metadata": {},
   "source": [
    "## Exercicios - 01"
   ]
  },
  {
   "cell_type": "code",
   "execution_count": 23,
   "id": "0adb71a0",
   "metadata": {},
   "outputs": [],
   "source": [
    "import xlsxwriter as xlsx\n",
    "import os\n",
    "\n",
    "#-------------------------------------------------------caminho e  arquivo\n",
    "\n",
    "caminho = 'C:\\\\Users\\\\FIC\\\\Documents\\\\Marcos.Venancio-Python\\\\'\n",
    "arquivo = 'Exemplo-9.xlsx'\n",
    "workbook = xlsx.Workbook(caminho+arquivo) #...........Criar uma nova pasta de trabalho.\n",
    "\n",
    "\n",
    "#_ _ _ _ _ _ _ _ _ _ _ _ _ _ _ _ _ _ _Adicionar uma planilha (aba) ao documento\n",
    "\n",
    "sheetDados = workbook.add_worksheet('Dados')\n",
    "\n",
    "#---------------------------------Modificando a cor de fundo das celulas\n",
    "\n",
    "higherFormat = workbook.add_format({ \n",
    "                                    'bg_color':'#E2EFDA',\n",
    "                                    'font_color':'green',\n",
    "                                    'bold': True\n",
    "                                    })\n",
    "\n",
    "lowerFormat = workbook.add_format({\n",
    "                                    'bg_color':'#F8CBAD',\n",
    "                                    'font_color':'red',\n",
    "                                    'bold': True\n",
    "                                    })\n",
    "#----------------Criar um modelo de dados para aplicar a formatação\n",
    "\n",
    "dados = [\n",
    "    ['Coluna1','Coluna2','Coluna3','Coluna4'],\n",
    "    [10,20,30,40],\n",
    "    [36,87,100,25],\n",
    "    [78,98,2,5],\n",
    "    [74,25,63,12],\n",
    "]\n",
    "\n",
    "for linha, listas in enumerate(dados):\n",
    "    sheetDados.write_row(linha,0,listas)\n",
    "    \n",
    "sheetDados.conditional_format('A1:D5',{'type' : 'cell',\n",
    "                                       'criteria':'>=',\n",
    "                                       'value' : 50,\n",
    "                                       'format':higherFormat\n",
    "                                    } \n",
    "                             )\n",
    "\n",
    "sheetDados.conditional_format('A1:D5',{'type' : 'cell',\n",
    "                                       'criteria':'<',\n",
    "                                       'value' : 50,\n",
    "                                       'format':lowerFormat\n",
    "                                      \n",
    "                                    }\n",
    "                             )\n",
    "    \n",
    "#fechar e salvar arquivo\n",
    "\n",
    "workbook.close()\n",
    "\n",
    "\n",
    "#abrir o documento\n",
    "\n",
    "os.startfile(caminho + arquivo)"
   ]
  },
  {
   "cell_type": "code",
   "execution_count": 1,
   "id": "47d741d2",
   "metadata": {},
   "outputs": [
    {
     "ename": "NameError",
     "evalue": "name 'sheetDados' is not defined",
     "output_type": "error",
     "traceback": [
      "\u001b[1;31m---------------------------------------------------------------------------\u001b[0m",
      "\u001b[1;31mNameError\u001b[0m                                 Traceback (most recent call last)",
      "Cell \u001b[1;32mIn[1], line 23\u001b[0m\n\u001b[0;32m     19\u001b[0m posColuna \u001b[38;5;241m=\u001b[39m \u001b[38;5;241m0\u001b[39m\n\u001b[0;32m     21\u001b[0m \u001b[38;5;28;01mfor\u001b[39;00m linha, listas \u001b[38;5;129;01min\u001b[39;00m \u001b[38;5;28menumerate\u001b[39m(dados):\n\u001b[1;32m---> 23\u001b[0m     \u001b[43msheetDados\u001b[49m\u001b[38;5;241m.\u001b[39mwrite_row(linha \u001b[38;5;241m+\u001b[39m posLinha,posColuna,listas)\n\u001b[0;32m     25\u001b[0m workbook\u001b[38;5;241m.\u001b[39mclose()\n\u001b[0;32m     27\u001b[0m os\u001b[38;5;241m.\u001b[39mstartfile(caminho \u001b[38;5;241m+\u001b[39m arquivo)\n",
      "\u001b[1;31mNameError\u001b[0m: name 'sheetDados' is not defined"
     ]
    }
   ],
   "source": [
    "import xlsxwriter as xlsx\n",
    "import os\n",
    "\n",
    "caminho = 'C:\\\\Users\\\\FIC\\\\Documents\\\\Marcos.Venancio-Python\\\\'\n",
    "arquivo = 'Exemplo_10.1.xlsx'\n",
    "\n",
    "\n",
    "dados = [\n",
    "    ['produto','qtde','preço','subtotal'],\n",
    "    ['calça',5,30],\n",
    "    ['camisa',6,30],\n",
    "    ['sapato',7,30],\n",
    "    ['saia',8,30],\n",
    "    ['blusa',9,30],\n",
    "    ['shorts',4,30]\n",
    "]\n",
    "\n",
    "posLinha = 5\n",
    "posColuna = 0\n",
    "\n",
    "for linha, listas in enumerate(dados):\n",
    "\n",
    "    sheetDados.write_row(linha + posLinha,posColuna,listas)\n",
    "\n",
    "workbook.close()\n",
    "\n",
    "os.startfile(caminho + arquivo)"
   ]
  }
 ],
 "metadata": {
  "kernelspec": {
   "display_name": "Python 3 (ipykernel)",
   "language": "python",
   "name": "python3"
  },
  "language_info": {
   "codemirror_mode": {
    "name": "ipython",
    "version": 3
   },
   "file_extension": ".py",
   "mimetype": "text/x-python",
   "name": "python",
   "nbconvert_exporter": "python",
   "pygments_lexer": "ipython3",
   "version": "3.10.9"
  }
 },
 "nbformat": 4,
 "nbformat_minor": 5
}
