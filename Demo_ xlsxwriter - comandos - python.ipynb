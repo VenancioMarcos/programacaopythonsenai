{
 "cells": [
  {
   "cell_type": "markdown",
   "id": "8bc26bd3",
   "metadata": {},
   "source": [
    "Demo_ xlsxwriter - comandos - python"
   ]
  },
  {
   "cell_type": "code",
   "execution_count": 4,
   "id": "6f39678b",
   "metadata": {},
   "outputs": [],
   "source": [
    "import xlsxwriter as xlsx\n",
    "import os\n",
    "\n",
    "#-------------------------------------------------------caminho e  arquivo\n",
    "\n",
    "caminho = 'C:\\\\Users\\\\FIC\\\\Documents\\\\Marcos.Venancio-Python\\\\'\n",
    "arquivo = 'exercicio-demo.xlsx'\n",
    "\n",
    "\n",
    "# Create an new Excel file and add a worksheet.\n",
    "workbook = xlsx.Workbook(caminho + arquivo)\n",
    "worksheet = workbook.add_worksheet()\n",
    "\n",
    "# Widen the first column to make the text clearer.\n",
    "worksheet.set_column('A:A', 20)\n",
    "\n",
    "# Add a bold format to use to highlight cells.\n",
    "bold = workbook.add_format({'bold': True})\n",
    "\n",
    "# Write some simple text.\n",
    "worksheet.write('A1', 'Hello')\n",
    "\n",
    "# Text with formatting.\n",
    "worksheet.write('A2', 'World', bold)\n",
    "\n",
    "# Write some numbers, with row/column notation.\n",
    "worksheet.write(2, 0, 123)\n",
    "worksheet.write(3, 0, 123.456)\n",
    "\n",
    "# Insert an image.\n",
    "worksheet.insert_image('B5', 'logo.png')\n",
    "\n",
    "#-----------------------------------------------------Fechar o documento e salvar\n",
    "workbook.close()\n",
    "#----------------------------------------------------Abrir documento\n",
    "os.startfile(caminho+arquivo)"
   ]
  },
  {
   "cell_type": "code",
   "execution_count": null,
   "id": "8a465090",
   "metadata": {},
   "outputs": [],
   "source": []
  }
 ],
 "metadata": {
  "kernelspec": {
   "display_name": "Python 3 (ipykernel)",
   "language": "python",
   "name": "python3"
  },
  "language_info": {
   "codemirror_mode": {
    "name": "ipython",
    "version": 3
   },
   "file_extension": ".py",
   "mimetype": "text/x-python",
   "name": "python",
   "nbconvert_exporter": "python",
   "pygments_lexer": "ipython3",
   "version": "3.10.9"
  }
 },
 "nbformat": 4,
 "nbformat_minor": 5
}
