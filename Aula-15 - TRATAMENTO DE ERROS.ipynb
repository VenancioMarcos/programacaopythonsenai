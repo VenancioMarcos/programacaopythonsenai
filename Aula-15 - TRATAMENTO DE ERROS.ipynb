{
 "cells": [
  {
   "cell_type": "markdown",
   "metadata": {},
   "source": [
    "TRATAMENTO DE ERROS"
   ]
  },
  {
   "cell_type": "markdown",
   "metadata": {},
   "source": [
    "LISTA DE EXERCÍCIO – TRATAMENTO DE ERROS."
   ]
  },
  {
   "cell_type": "markdown",
   "metadata": {},
   "source": [
    "O codigo (try) permite que você teste um bloco de código em busca de erros.\n",
    "\n",
    "O codigo (except) permite lidar com o erro.\n",
    "\n",
    "O codigo (else) permite executar o código quando não há erro.\n",
    "\n",
    "O codigo (finally) permite que você execute o código, independentemente do\n",
    "resultado dos blocos (try) e (except)."
   ]
  },
  {
   "cell_type": "code",
   "execution_count": null,
   "metadata": {},
   "outputs": [],
   "source": [
    "#_________________MANIPULAÇÃO DE EXCEÇÃO\n",
    "\n",
    "try:\n",
    "    print(x)\n",
    "except:\n",
    "    print(\"An exception occurred\")"
   ]
  },
  {
   "cell_type": "code",
   "execution_count": null,
   "metadata": {},
   "outputs": [],
   "source": [
    "def divide_numbers(x,y):\n",
    "    \n",
    "    try:\n",
    "        x = float(x)\n",
    "        y = float(y)\n",
    "\n",
    "        result = x / y\n",
    "        return result\n",
    "\n",
    "    except ZeroDivisionError:\n",
    "        print('Não é permitido divisão por zero')\n",
    "\n",
    "    except ValueError:\n",
    "        print('Não é permitido letras. Somente numeros.')\n",
    "\n",
    "\n",
    "numerador = 100\n",
    "\n",
    "denominador = 5\n",
    "\n",
    "divide_numbers(numerador, denominador)"
   ]
  },
  {
   "cell_type": "code",
   "execution_count": null,
   "metadata": {},
   "outputs": [],
   "source": [
    "def ge_integer_input(number):\n",
    "    try:\n",
    "        valor = int(number)\n",
    "        return valor\n",
    "    except ValueError:\n",
    "        print('INFORMAÇÃO INVALIDA')\n",
    "\n",
    "#______________USO PARA TESTE\n",
    "\n",
    "n = input('Digite um numero inteiro')\n",
    "print('O valor digitado é:', ge_integer_input(n))\n"
   ]
  },
  {
   "cell_type": "code",
   "execution_count": null,
   "metadata": {},
   "outputs": [],
   "source": [
    "def conceito_final(nota1, nota2):\n",
    "    try:\n",
    "        nota_1 = float(nota1) \n",
    "        nota_2 = float(nota2)\n",
    "        media = (nota_1 + nota_2)/2\n",
    "\n",
    "        if media >= 7:\n",
    "            conceito = 'Aprovado'\n",
    "        elif media <= 7:\n",
    "            conceito = 'Reprovado'\n",
    "        elif media == 10:\n",
    "            conceito = 'Aprovado com distinção'\n",
    "\n",
    "        return conceito\n",
    "\n",
    "    except:\n",
    "        print('Erro: Valor invalido')\n",
    "\n",
    "\n",
    "#__________USO PARA TESTE\n",
    "\n",
    "conceito_final(10, '10')\n",
    "    "
   ]
  },
  {
   "cell_type": "markdown",
   "metadata": {},
   "source": [
    "### Comando finally, \n",
    "Se especificado sera executado independentemente se o comando try gerar um erro ou não."
   ]
  },
  {
   "cell_type": "code",
   "execution_count": null,
   "metadata": {},
   "outputs": [],
   "source": [
    "try:\n",
    "    print(x)\n",
    "except:\n",
    "    print('Alguma coisa deu errado!')\n",
    "finally:\n",
    "    print('O bloco try except esta finalizado.')"
   ]
  },
  {
   "cell_type": "markdown",
   "metadata": {},
   "source": [
    "### Raise (levantar uma exceção)\n",
    "\n",
    "A palavra chave-raise é usada para gerar uma exceção de erro.\n",
    "Você pode definir que tipo de erro gerar eo texto a ser texto a ser impresso para o usuario."
   ]
  },
  {
   "cell_type": "code",
   "execution_count": null,
   "metadata": {},
   "outputs": [],
   "source": [
    "x = 'hello baby'\n",
    "\n",
    "if not type(x) is int:\n",
    "    raise typeError('Este erro foi criado pelo programador.')"
   ]
  },
  {
   "cell_type": "markdown",
   "metadata": {},
   "source": [
    "Escreva um programa Python que abra um arquivo e manipule uma exceção FileNotFoundError\n",
    "se o arquivo não existir.\n",
    "\n",
    "exception FileNotFoundError.\n",
    "\n",
    "Gerado quando um arquivo ou diretorio é solicitado, mas não existe. Correponde ao erro ENOENT."
   ]
  },
  {
   "cell_type": "code",
   "execution_count": 8,
   "metadata": {},
   "outputs": [],
   "source": [
    "def open_file(fileName):\n",
    "    try:\n",
    "        file = open(fileName, 'r')\n",
    "        contents = file.read()\n",
    "        print('file contnts')\n",
    "        print(contents)\n",
    "        file.close()\n",
    "    except FileNotFoundError:\n",
    "        print('ERRO: Arquivo não localizado!')"
   ]
  },
  {
   "cell_type": "code",
   "execution_count": 9,
   "metadata": {},
   "outputs": [
    {
     "name": "stdout",
     "output_type": "stream",
     "text": [
      "file contnts\n",
      "Tipo,Valor,Forma de Pagamento\n",
      "Mercado,85,CartÃ£o\n",
      "RemÃ©dio,48,Dinheiro\n",
      "Celular,149,CartÃ£o\n",
      "Lanches,35,Cheque\n",
      "Livros,65,Cheque\n",
      "Passagem,430,CartÃ£o\n",
      "Aluguel,650,Dinheiro\n",
      "Teatro,50,CartÃ£o\n",
      "Roupas,220,CartÃ£o\n",
      "Nova Linha 1,220,CartÃ£o\n",
      "Petshop,100,CartÃ£o\n"
     ]
    }
   ],
   "source": [
    "#________USO DA FUNÇÂO\n",
    "\n",
    "arquivo = input('Informe o caminho do arquivo:')\n",
    "open_file(arquivo)"
   ]
  },
  {
   "cell_type": "code",
   "execution_count": null,
   "metadata": {},
   "outputs": [],
   "source": []
  }
 ],
 "metadata": {
  "kernelspec": {
   "display_name": "Python 3",
   "language": "python",
   "name": "python3"
  },
  "language_info": {
   "codemirror_mode": {
    "name": "ipython",
    "version": 3
   },
   "file_extension": ".py",
   "mimetype": "text/x-python",
   "name": "python",
   "nbconvert_exporter": "python",
   "pygments_lexer": "ipython3",
   "version": "3.11.0"
  },
  "orig_nbformat": 4
 },
 "nbformat": 4,
 "nbformat_minor": 2
}
