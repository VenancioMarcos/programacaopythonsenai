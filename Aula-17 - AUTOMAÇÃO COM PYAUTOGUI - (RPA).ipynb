{
 "cells": [
  {
   "cell_type": "markdown",
   "metadata": {},
   "source": [
    "#### INSTALANDO O PYAUTOGUI\n",
    "\n",
    "#PESQUISAR POR (COPI LOT)"
   ]
  },
  {
   "cell_type": "code",
   "execution_count": null,
   "metadata": {},
   "outputs": [],
   "source": [
    "!pip install pyautogui"
   ]
  },
  {
   "cell_type": "markdown",
   "metadata": {},
   "source": [
    "### EXERCICIO - 01"
   ]
  },
  {
   "cell_type": "code",
   "execution_count": null,
   "metadata": {},
   "outputs": [],
   "source": [
    "import pyautogui\n",
    "\n",
    "#movimentar o mouse nas coordenadas (x,y)\n",
    "\n",
    "pyautogui.moveTo(500,500)"
   ]
  },
  {
   "cell_type": "markdown",
   "metadata": {},
   "source": [
    "### EXERCICIO - 02"
   ]
  },
  {
   "cell_type": "code",
   "execution_count": 71,
   "metadata": {},
   "outputs": [
    {
     "data": {
      "text/plain": [
       "Point(x=593, y=511)"
      ]
     },
     "execution_count": 71,
     "metadata": {},
     "output_type": "execute_result"
    }
   ],
   "source": [
    "#___________DESCOBRIR A POSIÇÃO DE UM ELEMENTO\n",
    "\n",
    "import pyautogui\n",
    "\n",
    "\n",
    "pyautogui.position()"
   ]
  },
  {
   "cell_type": "code",
   "execution_count": null,
   "metadata": {},
   "outputs": [],
   "source": [
    "#___________MOVIMENTANDO PARA A POSIÇÃO\n",
    "\n",
    "import pyautogui\n",
    "\n",
    "\n",
    "pyautogui.moveTo(x=1716, y=393)"
   ]
  },
  {
   "cell_type": "markdown",
   "metadata": {},
   "source": [
    "### EXERCICIO - 03"
   ]
  },
  {
   "cell_type": "code",
   "execution_count": null,
   "metadata": {},
   "outputs": [],
   "source": [
    "import pyautogui\n",
    "\n",
    "#importar a biblioteca time\n",
    "\n",
    "import time\n",
    "\n",
    "#Digitação com tempo de espera\n",
    "\n",
    "time.sleep(5)\n",
    "\n",
    "#ditite um texto\n",
    "\n",
    "pyautogui.write('hello, baby!!!')"
   ]
  },
  {
   "cell_type": "markdown",
   "metadata": {},
   "source": [
    "###EXERCICIO - 04"
   ]
  },
  {
   "cell_type": "code",
   "execution_count": null,
   "metadata": {},
   "outputs": [],
   "source": [
    "import pyautogui\n",
    "\n",
    "\n",
    "#CAPTURAR A POSIÇÃO ATUAL DO MOUSE\n",
    "\n",
    "x, y = pyautogui.position()\n",
    "\n",
    "print(f'posição atual do mouse: x= {x}, y= {y}')"
   ]
  },
  {
   "cell_type": "markdown",
   "metadata": {},
   "source": [
    "### EXERCICIO - 05"
   ]
  },
  {
   "cell_type": "code",
   "execution_count": null,
   "metadata": {},
   "outputs": [],
   "source": [
    "import pyautogui\n",
    "import time\n",
    "\n",
    "pyautogui.click(25, 1060)\n",
    "\n",
    "time.sleep(5)\n",
    "pyautogui.write('bloco de notas')\n",
    "pyautogui.press('enter')\n",
    "\n",
    "time.sleep(5)\n",
    "pyautogui.write('digite um texto')"
   ]
  },
  {
   "cell_type": "markdown",
   "metadata": {},
   "source": [
    "EXERCICIO - 06"
   ]
  },
  {
   "cell_type": "code",
   "execution_count": null,
   "metadata": {},
   "outputs": [],
   "source": [
    "import pyautogui\n",
    "import time\n",
    "\n",
    "pyautogui.doubleClick(707, 11)\n"
   ]
  },
  {
   "cell_type": "markdown",
   "metadata": {},
   "source": [
    "### DESAFIO EM SALA"
   ]
  },
  {
   "cell_type": "code",
   "execution_count": null,
   "metadata": {},
   "outputs": [],
   "source": [
    "#CLICAR EM INICIAR, DIGITAR GOOGLE E ABRIR O GOOGLE, ABRIR SITE DO SENAI SUIÇO BRASILEIRO.\n",
    "\n",
    "import pyautogui\n",
    "import time\n",
    "\n",
    "pyautogui.click(25, 1060)\n",
    "\n",
    "time.sleep(2)\n",
    "pyautogui.write('google')\n",
    "pyautogui.press('enter')\n",
    "\n",
    "time.sleep(2)\n",
    "pyautogui.write('senai suiço brasileiro')\n",
    "pyautogui.press('enter')\n",
    "\n",
    "time.sleep(2)\n",
    "\n",
    "pyautogui.click(1189, 504)"
   ]
  },
  {
   "cell_type": "code",
   "execution_count": null,
   "metadata": {},
   "outputs": [],
   "source": [
    "#CLICAR EM INICIAR, DIGITAR GOOGLE E ABRIR O GOOGLE, ABRIR SITE DO SENAI SUIÇO BRASILEIRO.\n",
    "\n",
    "\n",
    "import pyautogui\n",
    "import time\n",
    "\n",
    "pyautogui.click(25, 1060)\n",
    "\n",
    "time.sleep(2)\n",
    "pyautogui.write('google')\n",
    "pyautogui.press('enter')\n",
    "\n",
    "time.sleep(2)\n",
    "pyautogui.write(\"https://sp.senai.br/unidade/suicobrasileira/\")\n",
    "pyautogui.press('enter')"
   ]
  },
  {
   "cell_type": "code",
   "execution_count": 47,
   "metadata": {},
   "outputs": [],
   "source": [
    "#___CLICAR EM INICIAR, DIGITAR GOOGLE E ABRIR O GOOGLE, \n",
    "#___ABRIR SITE DO SENAI SUIÇO BRASILEIRO.\n",
    "#___buscar curso de fmea e ver unidade e turmas\n",
    "\n",
    "import pyautogui\n",
    "import time\n",
    "\n",
    "pyautogui.click(25, 1060)\n",
    "\n",
    "time.sleep(2)\n",
    "pyautogui.write('google')\n",
    "pyautogui.press('enter')\n",
    "\n",
    "time.sleep(2)\n",
    "pyautogui.write(\"https://sp.senai.br/unidade/suicobrasileira/\")\n",
    "pyautogui.press('enter')\n",
    "\n",
    "time.sleep(2)\n",
    "pyautogui.click(1858, 30)\n",
    "\n",
    "time.sleep(3)\n",
    "pyautogui.click(1269, 511)\n",
    "\n",
    "time.sleep(3)\n",
    "#pyautogui.moveTo(475, 318) mover\n",
    "#pyautogui.click() clicar\n",
    "pyautogui.click(475, 318) #mover e clicar\n",
    "\n",
    "time.sleep(3)\n",
    "pyautogui.write('fmea')\n",
    "pyautogui.press('enter')\n",
    "\n",
    "time.sleep(3)\n",
    "pyautogui.click(808, 730)"
   ]
  },
  {
   "cell_type": "markdown",
   "metadata": {},
   "source": [
    "### DESAFIO - 02 (ABRIR UM SITE E PREENCHER CADASTRO)"
   ]
  },
  {
   "cell_type": "code",
   "execution_count": 2,
   "metadata": {},
   "outputs": [],
   "source": [
    "import pyautogui\n",
    "import time\n",
    "\n",
    "pyautogui.click(25, 1060)\n",
    "\n",
    "time.sleep(2)\n",
    "pyautogui.write('google')\n",
    "pyautogui.press('enter')\n",
    "\n",
    "time.sleep(2)\n",
    "pyautogui.write(\"https://rpachallenge.com/\")\n",
    "pyautogui.press('enter')\n",
    "\n",
    "time.sleep(2)\n",
    "pyautogui.click(600, 250)\n",
    "time.sleep(2)\n",
    "pyautogui.write('MARCOS')\n",
    "\n",
    "time.sleep(2)\n",
    "pyautogui.click(1100, 250)\n",
    "time.sleep(2)\n",
    "pyautogui.write('VENANCIO')\n",
    "\n",
    "time.sleep(2)\n",
    "pyautogui.click(600, 330)\n",
    "time.sleep(2)\n",
    "pyautogui.write('SENAI')\n",
    "\n",
    "time.sleep(2)\n",
    "pyautogui.click(1100, 330)\n",
    "time.sleep(2)\n",
    "pyautogui.write('11984640430')\n",
    "\n",
    "time.sleep(2)\n",
    "pyautogui.click(600, 420)\n",
    "time.sleep(2)\n",
    "pyautogui.write('19562023')\n",
    "\n",
    "time.sleep(2)\n",
    "pyautogui.click(1100, 420)\n",
    "time.sleep(2)\n",
    "pyautogui.write('19562023')\n",
    "\n",
    "time.sleep(2)\n",
    "pyautogui.click(600, 510)\n",
    "time.sleep(2)\n",
    "pyautogui.write('MARCOSV.ENGPROD@GMAIL.COM')"
   ]
  },
  {
   "cell_type": "markdown",
   "metadata": {},
   "source": [
    "### DESAFIO - 03 (ABRIR UM SITE E PREENCHER CADASTRO UTILIZANDO SCROOL)"
   ]
  },
  {
   "cell_type": "code",
   "execution_count": 19,
   "metadata": {},
   "outputs": [],
   "source": [
    "import pyautogui\n",
    "import time\n",
    "\n",
    "pyautogui.click(25, 1060)\n",
    "\n",
    "time.sleep(2)\n",
    "pyautogui.write('google')\n",
    "pyautogui.press('enter')\n",
    "\n",
    "time.sleep(2)\n",
    "link = \"https://docs.google.com/forms/d/e/1FAIpQLScJ9ZifYSCFdUa7SDj9zcTwIdDxg4ip_wmWg6mt-eAbGEKoYg/viewform\"\n",
    "pyautogui.write(link.lower())\n",
    "time.sleep(5)\n",
    "pyautogui.press('enter')\n",
    "\n",
    "time.sleep(2)\n",
    "pyautogui.click(680, 540)\n",
    "time.sleep(2)\n",
    "pyautogui.write('MARCOS')\n",
    "\n",
    "time.sleep(2)\n",
    "pyautogui.press('tab')\n",
    "time.sleep(2)\n",
    "pyautogui.write('VENANCIO')\n",
    "\n",
    "time.sleep(2)\n",
    "pyautogui.press('tab')\n",
    "time.sleep(2)\n",
    "pyautogui.write('MARCOSV.ENGPROD@GMAIL.COM')\n",
    "\n",
    "time.sleep(2)\n",
    "pyautogui.press('tab')\n",
    "time.sleep(2)\n",
    "pyautogui.write('VENANCIO')\n",
    "\n",
    "time.sleep(2)\n",
    "pyautogui.press('tab')\n",
    "time.sleep(2)\n",
    "pyautogui.write('VENANCIO')\n"
   ]
  }
 ],
 "metadata": {
  "kernelspec": {
   "display_name": "Python 3",
   "language": "python",
   "name": "python3"
  },
  "language_info": {
   "codemirror_mode": {
    "name": "ipython",
    "version": 3
   },
   "file_extension": ".py",
   "mimetype": "text/x-python",
   "name": "python",
   "nbconvert_exporter": "python",
   "pygments_lexer": "ipython3",
   "version": "3.11.0"
  },
  "orig_nbformat": 4
 },
 "nbformat": 4,
 "nbformat_minor": 2
}
