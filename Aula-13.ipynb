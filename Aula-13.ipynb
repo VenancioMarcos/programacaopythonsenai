{
 "cells": [
  {
   "cell_type": "markdown",
   "metadata": {},
   "source": [
    "Trabalhando com openPyxl e PyPDF2\n",
    "\n",
    "(!pip install openpyxl)"
   ]
  },
  {
   "cell_type": "code",
   "execution_count": null,
   "metadata": {},
   "outputs": [],
   "source": [
    "!pip install openpyxl"
   ]
  },
  {
   "cell_type": "code",
   "execution_count": 14,
   "metadata": {},
   "outputs": [],
   "source": [
    "import openpyxl\n",
    "\n",
    "#.................Abrindo um arquivo txt\n",
    "\n",
    "caminho = 'C:\\\\Users\\\\FIC\\\\Documents\\\\Marcos.Venancio-Python\\\\'\n",
    "\n",
    "f = open(caminho + 'gastos.txt',encoding= 'utf-8')\n",
    "\n",
    "arquivo = f.read()\n",
    "\n",
    "lista_dados = arquivo.splitlines()\n",
    "\n",
    "for i in range(0, len(lista_dados)):\n",
    "    lista_dados[i] = lista_dados[i].split(',')\n",
    "\n",
    "wb = openpyxl.Workbook()  \n",
    "ws = wb.active           \n",
    "\n",
    "\n",
    "for linha in lista_dados:\n",
    "    ws.append(linha)\n",
    "\n",
    "wb.save(filename=\"gastos.xlsx\")"
   ]
  }
 ],
 "metadata": {
  "kernelspec": {
   "display_name": "Python 3",
   "language": "python",
   "name": "python3"
  },
  "language_info": {
   "codemirror_mode": {
    "name": "ipython",
    "version": 3
   },
   "file_extension": ".py",
   "mimetype": "text/x-python",
   "name": "python",
   "nbconvert_exporter": "python",
   "pygments_lexer": "ipython3",
   "version": "3.11.0"
  },
  "orig_nbformat": 4
 },
 "nbformat": 4,
 "nbformat_minor": 2
}
