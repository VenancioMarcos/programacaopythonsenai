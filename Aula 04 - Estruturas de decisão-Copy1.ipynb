{
 "cells": [
  {
   "cell_type": "code",
   "execution_count": null,
   "id": "e0694378",
   "metadata": {},
   "outputs": [],
   "source": [
    "temperatura = 31\n",
    "if temperatura > 30:\n",
    "    print(\"Hoje está muito quente!\")\n",
    "else:\n",
    "    print(\"A temperatura está agradável!\")"
   ]
  },
  {
   "cell_type": "code",
   "execution_count": 1,
   "id": "2a0d9912",
   "metadata": {},
   "outputs": [
    {
     "name": "stdout",
     "output_type": "stream",
     "text": [
      "Positivo\n"
     ]
    }
   ],
   "source": [
    "num = 10\n",
    "if num < 0:\n",
    "    print(\"Negativo\")\n",
    "else:\n",
    "    print(\"Positivo\")"
   ]
  },
  {
   "cell_type": "code",
   "execution_count": 2,
   "id": "a986329f",
   "metadata": {},
   "outputs": [
    {
     "name": "stdout",
     "output_type": "stream",
     "text": [
      "A temperatura está agradável!\n"
     ]
    }
   ],
   "source": [
    "temperatura=19\n",
    "if temperatura > 30:\n",
    "    print(\"Hoje está muito quente\")\n",
    "elif temperaturatemperatura = 31\n",
    "if temperatura > 30:\n",
    "    print(\"Hoje está muito quente!\")\n",
    "else:\n",
    "    print(\"A temperatura está agradável!\")<15:\n",
    "    print(\"Hoje está muito frio!\")\n",
    "else:temperatura = 31\n",
    "if temperatura > 30:\n",
    "    print(\"Hoje está muito quente!\")\n",
    "else:\n",
    "    print(\"A temperatura está agradável!\")\n",
    "    print(\"A temperatura está agradável!\")"
   ]
  },
  {
   "cell_type": "code",
   "execution_count": 3,
   "id": "e1d2249e",
   "metadata": {},
   "outputs": [
    {
     "name": "stdout",
     "output_type": "stream",
     "text": [
      "Nulo\n"
     ]
    }
   ],
   "source": [
    "num = 0 \n",
    "if num <0:\n",
    "    print('Negativo')\n",
    "elif num>0:\n",
    "    print('Positivo')\n",
    "else:\n",
    "    print('Nulo')"
   ]
  },
  {
   "cell_type": "code",
   "execution_count": null,
   "id": "a6afece2",
   "metadata": {},
   "outputs": [],
   "source": [
    "Valor_1 = float(input('Digite um número: '))\n",
    "Valor_2= float(input('Digite outro número: '))\n",
    "\n",
    "if Valor_1 > Valor_2:\n",
    "    print('O maior número é ',Valor_1)\n",
    "else:\n",
    "    print('O maior número é ', Valor_2)"
   ]
  },
  {
   "cell_type": "code",
   "execution_count": null,
   "id": "f7760eec",
   "metadata": {},
   "outputs": [],
   "source": [
    "Letra = input('Digite uma letra: ')\n",
    "if Letra == \"a\":\n",
    "    print('A letra é vogal')\n",
    "elif Letra == \"e\":\n",
    "    print('A letra é vogal')\n",
    "elif Letra == \"i\":\n",
    "    print('A letra é vogal')\n",
    "elif Letra == \"o\":\n",
    "    print('A letra é vogal')\n",
    "elif Letra == \"u\":\n",
    "    print('A letra é vogal')\n",
    "else:\n",
    "    print('A letra é consoante')"
   ]
  },
  {
   "cell_type": "code",
   "execution_count": null,
   "id": "eb8406f0",
   "metadata": {},
   "outputs": [],
   "source": [
    "Sexo = input('Digite a letra do sexo: ')\n",
    "if Sexo == \"m\":\n",
    "    print('M - Masculino')\n",
    "elif Sexo == \"f\":\n",
    "    print('F - Feminino')\n",
    "else:\n",
    "    print('Sexo invalido')"
   ]
  },
  {
   "cell_type": "code",
   "execution_count": null,
   "id": "5d9b758c",
   "metadata": {},
   "outputs": [],
   "source": [
    "Letra = input('Digite uma letra: ')\n",
    "if Letra == \"a\" or Letra == \"e\" or Letra == \"i\" or Letra == \"o\" or Letra == \"u\":\n",
    "     print('A letra é vogal')\n",
    "else:\n",
    "    print('A letra é consoante')"
   ]
  },
  {
   "cell_type": "code",
   "execution_count": null,
   "id": "1190f0ec",
   "metadata": {},
   "outputs": [],
   "source": [
    "Nota1= float(input('Digite a nota 1: '))\n",
    "Nota2= float(input('Digite a nota 2: '))\n",
    "Media=(Nota1+Nota2)/2\n",
    "\n",
    "if Media==10:\n",
    "    print('Aprovado com Distinção')\n",
    "elif Media>=7:\n",
    "    \n",
    "    \n",
    "    \n",
    "    print('Aprovado')\n",
    "else:\n",
    "    print('Reprovado')"
   ]
  },
  {
   "cell_type": "code",
   "execution_count": null,
   "id": "04078cb2",
   "metadata": {},
   "outputs": [],
   "source": [
    "Valor_1 = float(input('Digite um número: '))\n",
    "Valor_2= float(input('Digite outro número: '))\n",
    "Valor_3= float(input('Digite outro número: '))\n",
    "\n",
    "if Valor_1 > Valor_2 and Valor_1 > Valor_3:\n",
    "    print('O maior número é ',Valor_1)\n",
    "elif Valor_1==Valor_2>Valor_3 or Valor_1==Valor_3>Valor_2:\n",
    "    print('O maior número é ',Valor_1)\n",
    "elif Valor_2 > Valor_1 and Valor_2 > Valor_3:\n",
    "    print('O maior número é ',Valor_2)\n",
    "elif Valor_2==Valor_1>Valor_3 or Valor_2==Valor_3>Valor_1:\n",
    "    print('O maior número é ',Valor_2)\n",
    "else:\n",
    "    print('O maior número é ', Valor_3)"
   ]
  },
  {
   "cell_type": "code",
   "execution_count": null,
   "id": "76457586",
   "metadata": {},
   "outputs": [],
   "source": [
    "Valor_1 = float(input('Digite um número: '))\n",
    "Valor_2= float(input('Digite outro número: '))\n",
    "Valor_3= float(input('Digite outro número: '))\n",
    "\n",
    "if Valor_1 > Valor_2 and Valor_1 > Valor_3 and Valor_2>Valor_3:\n",
    "    print('O maior número é ',Valor_1, 'e o menor número é: ', Valor_3)\n",
    "elif Valor_1 > Valor_2 and Valor_1 > Valor_3 and Valor_3>Valor_2:\n",
    "    print('O maior número é ',Valor_1, 'e o menor número é: ', Valor_2)\n",
    "elif Valor_1 < Valor_2 and Valor_1 < Valor_3 and Valor_2>Valor_3:\n",
    "    print('O maior número é ',Valor_2, 'e o menor número é: ', Valor_1)\n",
    "elif Valor_1 < Valor_2 and Valor_1 < Valor_3 and Valor_3>Valor_2:\n",
    "    print('O maior número é ',Valor_3, 'e o menor número é: ', Valor_1)\n",
    "elif Valor_1 < Valor_2 and Valor_1 > Valor_3 and Valor_3<Valor_2:\n",
    "    print('O maior número é ',Valor_2, 'e o menor número é: ', Valor_3)\n",
    "elif Valor_1 > Valor_2 and Valor_1 < Valor_3 and Valor_3>Valor_2:\n",
    "    print('O maior número é ',Valor_3, 'e o menor número é: ', Valor_2)\n",
    "elif Valor_1==Valor_2>Valor_3:\n",
    "    print('O maior número é ',Valor_1, 'e o menor número é: ', Valor_3)\n",
    "elif Valor_1==Valor_2<Valor_3:\n",
    "    print('O maior número é ',Valor_3, 'e o menor número é: ', Valor_1)\n",
    "elif Valor_1==Valor_3>Valor_2:\n",
    "    print('O maior número é ',Valor_1, 'e o menor número é: ', Valor_2)\n",
    "elif Valor_1==Valor_3<Valor_2:\n",
    "    print('O maior número é ',Valor_2, 'e o menor número é: ', Valor_1)\n",
    "elif Valor_3==Valor_2>Valor_1:\n",
    "    print('O maior número é ',Valor_3, 'e o menor número é: ', Valor_1)\n",
    "elif Valor_3==Valor_1<Valor_2:\n",
    "    print('O maior número é ',Valor_2, 'e o menor número é: ', Valor_1)\n",
    "else:\n",
    "    print('Não há número maior')\n",
    "\n",
    "\n",
    "\n",
    "    "
   ]
  },
  {
   "cell_type": "code",
   "execution_count": null,
   "id": "5dccf087",
   "metadata": {},
   "outputs": [],
   "source": [
    "Preco1= float(input('Digite o preço: '))\n",
    "Preco2= float(input('Digite o preço: '))\n",
    "Preco3= float(input('Digite o preço: '))\n",
    "\n",
    "if Preco1 > Preco2 and Preco1 > Preco3:\n",
    "    print('O maior número é ',Valor_1)\n",
    "elif Valor_1==Valor_2>Valor_3 or Valor_1==Valor_3>Valor_2:\n",
    "    print('O maior número é ',Valor_1)\n",
    "elif Valor_2 > Valor_1 and Valor_2 > Valor_3:\n",
    "    print('O maior número é ',Valor_2)\n",
    "elif Valor_2==Valor_1>Valor_3 or Valor_2==Valor_3>Valor_1:\n",
    "    print('O maior número é ',Valor_2)\n",
    "else:\n",
    "    print('O maior número é ', Valor_3)"
   ]
  },
  {
   "cell_type": "code",
   "execution_count": null,
   "id": "5ca1ea55",
   "metadata": {},
   "outputs": [],
   "source": [
    "Preco1= float(input('Digite o preço: '))\n",
    "Preco2= float(input('Digite o preço: '))\n",
    "Preco3= float(input('Digite o preço: '))\n",
    "\n",
    "menorValor=min(Preco1, Preco2, Preco3)\n",
    "print('Você deve comprar o produto com o preço de: ', menorValor)"
   ]
  },
  {
   "cell_type": "code",
   "execution_count": null,
   "id": "1c496e25",
   "metadata": {},
   "outputs": [],
   "source": [
    "Salario = float(input('Informe seu salário: '))\n",
    "\n",
    "if Salario<=280:\n",
    "    print('Seu salário antes do reajuste era: ', Salario)\n",
    "    novoSalario=Salario+Salario*20/100\n",
    "    aumento=Salario*20/100\n",
    "    print ('O percentual de aumento foi 20%')\n",
    "    print('O valor do aumento foi: ',aumento)\n",
    "    print ('Seu novo salário é:', novoSalario)\n",
    "elif Salario>280 and Salario<=700:\n",
    "    aumento=Salario*15/100\n",
    "    novoSalario= Salario+aumento\n",
    "    print('Seu salário antes do reajuste era: ', Salario)\n",
    "    print ('O percentual de aumento foi 15%')\n",
    "    print('O valor do aumento foi: ',aumento)\n",
    "    print ('Seu novo salário é:', novoSalario)\n",
    "elif Salario>700 and Salario <=1500:\n",
    "    aumento=Salario*10/100\n",
    "    novoSalario= Salario+aumento\n",
    "    print('Seu salário antes do reajuste era: ', Salario)\n",
    "    print ('O percentual de aumento foi 10%')\n",
    "    print('O valor do aumento foi: ',aumento)\n",
    "    print ('Seu novo salário é:', novoSalario)\n",
    "elif Salario>1500:\n",
    "    aumento=Salario*5/100\n",
    "    novoSalario= Salario+aumento\n",
    "    print('Seu salário antes do reajuste era: ', Salario)\n",
    "    print ('O percentual de aumento foi 5%')\n",
    "    print('O valor do aumento foi: ',aumento)\n",
    "    print ('Seu novo salário é:', novoSalario)\n",
    "else:\n",
    "    print('Não houve aumento')\n",
    "\n",
    "\n",
    "    "
   ]
  },
  {
   "cell_type": "code",
   "execution_count": 9,
   "id": "252249dd",
   "metadata": {},
   "outputs": [
    {
     "name": "stdout",
     "output_type": "stream",
     "text": [
      "Telefonou para a vítima?s\n",
      "Esteve no local do crime?s\n",
      "Mora perto da vítima?s\n",
      "Devia para a vítima?s\n",
      "Já trabalhou com a vítima?s\n"
     ]
    },
    {
     "ename": "ValueError",
     "evalue": "int() base must be >= 2 and <= 36, or 0",
     "output_type": "error",
     "traceback": [
      "\u001b[1;31m---------------------------------------------------------------------------\u001b[0m",
      "\u001b[1;31mValueError\u001b[0m                                Traceback (most recent call last)",
      "Cell \u001b[1;32mIn[9], line 8\u001b[0m\n\u001b[0;32m      5\u001b[0m Resposta5 \u001b[38;5;241m=\u001b[39m \u001b[38;5;28minput\u001b[39m(\u001b[38;5;124m'\u001b[39m\u001b[38;5;124mJá trabalhou com a vítima?\u001b[39m\u001b[38;5;124m'\u001b[39m)\n\u001b[0;32m      7\u001b[0m \u001b[38;5;28;01mif\u001b[39;00m Resposta1\u001b[38;5;241m==\u001b[39m\u001b[38;5;124m\"\u001b[39m\u001b[38;5;124ms\u001b[39m\u001b[38;5;124m\"\u001b[39m:\n\u001b[1;32m----> 8\u001b[0m     \u001b[38;5;28;43mint\u001b[39;49m\u001b[43m(\u001b[49m\u001b[43mResposta1\u001b[49m\u001b[43m,\u001b[49m\u001b[43m \u001b[49m\u001b[38;5;241;43m1\u001b[39;49m\u001b[43m)\u001b[49m\n\u001b[0;32m      9\u001b[0m \u001b[38;5;28;01melif\u001b[39;00m Resposta2\u001b[38;5;241m==\u001b[39m\u001b[38;5;124m\"\u001b[39m\u001b[38;5;124ms\u001b[39m\u001b[38;5;124m\"\u001b[39m:\n\u001b[0;32m     10\u001b[0m     \u001b[38;5;28mint\u001b[39m(Resposta2, \u001b[38;5;241m1\u001b[39m)\n",
      "\u001b[1;31mValueError\u001b[0m: int() base must be >= 2 and <= 36, or 0"
     ]
    }
   ],
   "source": [
    "Resposta1 = input('Telefonou para a vítima?')\n",
    "Resposta2 = input('Esteve no local do crime?')\n",
    "Resposta3 = input('Mora perto da vítima?')\n",
    "Resposta4 = input('Devia para a vítima?')\n",
    "Resposta5 = input('Já trabalhou com a vítima?')\n",
    "\n",
    "if Resposta1==\"s\":\n",
    "    replace()\n",
    "elif Resposta2==\"s\":\n",
    "    int(Resposta2, 1)\n",
    "elif Resposta3==\"s\":\n",
    "    int(Resposta2, 1)\n",
    "elif Resposta4==\"s\":\n",
    "    int(Resposta2, 1)\n",
    "elif Resposta5==\"s\":\n",
    "    int(Resposta2, 1)\n",
    "else:\n",
    "    print('nada')\n",
    "    \n",
    "soma= Resposta1+Resposta2+Resposta3+Resposta4+Resposta5"
   ]
  }
 ],
 "metadata": {
  "kernelspec": {
   "display_name": "Python 3 (ipykernel)",
   "language": "python",
   "name": "python3"
  },
  "language_info": {
   "codemirror_mode": {
    "name": "ipython",
    "version": 3
   },
   "file_extension": ".py",
   "mimetype": "text/x-python",
   "name": "python",
   "nbconvert_exporter": "python",
   "pygments_lexer": "ipython3",
   "version": "3.10.9"
  }
 },
 "nbformat": 4,
 "nbformat_minor": 5
}
