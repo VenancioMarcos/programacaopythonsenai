{
 "cells": [
  {
   "cell_type": "markdown",
   "id": "7bceac3a",
   "metadata": {},
   "source": [
    "Exercício 01 – Crie um programa para receber dois valores e em seguida, exiba o valor \n",
    "da soma."
   ]
  },
  {
   "cell_type": "code",
   "execution_count": 2,
   "id": "4c125639",
   "metadata": {},
   "outputs": [
    {
     "name": "stdout",
     "output_type": "stream",
     "text": [
      "40\n"
     ]
    }
   ],
   "source": [
    "valor1 = 10\n",
    "valor2 = 30\n",
    "soma = valor1 + valor2\n",
    "print (soma)"
   ]
  },
  {
   "cell_type": "markdown",
   "id": "1070aa29",
   "metadata": {},
   "source": [
    "Exercício 02 – Crie um programa para receber dois valores e em seguida, exiba o valor \n",
    "da diferença entre eles."
   ]
  },
  {
   "cell_type": "code",
   "execution_count": 5,
   "id": "f7f67ed1",
   "metadata": {},
   "outputs": [
    {
     "name": "stdout",
     "output_type": "stream",
     "text": [
      "10\n"
     ]
    }
   ],
   "source": [
    "valor1 = 20\n",
    "valor2 = 10\n",
    "diferenca = valor1 - valor2\n",
    "print (diferenca)\n"
   ]
  },
  {
   "cell_type": "markdown",
   "id": "2be40330",
   "metadata": {},
   "source": [
    "Exercício 03 – Crie um programa para receber dois valores e em seguida, exiba o \n",
    "produto entre eles."
   ]
  },
  {
   "cell_type": "code",
   "execution_count": 7,
   "id": "f9723f0f",
   "metadata": {},
   "outputs": [
    {
     "name": "stdout",
     "output_type": "stream",
     "text": [
      "O resultado da multiplicação é: 6\n"
     ]
    }
   ],
   "source": [
    "valor1 = 2\n",
    "valor2 = 3\n",
    "\n",
    "produto = valor1 * valor2\n",
    "print (\"O resultado da multiplicação é:\", produto)\n"
   ]
  },
  {
   "cell_type": "markdown",
   "id": "06f52cb8",
   "metadata": {},
   "source": [
    "Exercício 04 - Crie um programa para receber dois valores e em seguida, exiba o \n",
    "quociente entre eles."
   ]
  },
  {
   "cell_type": "code",
   "execution_count": 9,
   "id": "815b9d78",
   "metadata": {},
   "outputs": [
    {
     "name": "stdout",
     "output_type": "stream",
     "text": [
      "O resultado da divisao é 2.0\n",
      "O resto da divisao é 0\n"
     ]
    }
   ],
   "source": [
    "valor1 = 10\n",
    "valor2 = 5\n",
    "#calculo de divisao\n",
    "quociente = valor1 / valor2\n",
    "\n",
    "#calculo do resto da divisao\n",
    "resto = valor1 % valor2\n",
    "\n",
    "print (\"O resultado da divisao é\", quociente)\n",
    "\n",
    "print (\"O resto da divisao é\", resto)\n"
   ]
  },
  {
   "cell_type": "markdown",
   "id": "a5ed8716",
   "metadata": {},
   "source": [
    "Exercício 10 - Crie um programa para converter metros para centimetros"
   ]
  },
  {
   "cell_type": "code",
   "execution_count": 12,
   "id": "1dd4b0c4",
   "metadata": {},
   "outputs": [
    {
     "name": "stdout",
     "output_type": "stream",
     "text": [
      "digite um valor em metros para converter em cm.20\n",
      "2000\n"
     ]
    }
   ],
   "source": [
    "#Solicitar ao usuario um valor em metros.\n",
    "\n",
    "metros = input (\"digite um valor em metros para converter em cm.\")\n",
    "\n",
    "metros = int(metros)\n",
    "type (metros)\n",
    "centimetros = metros * 100\n",
    "\n",
    "print (centimetros)"
   ]
  },
  {
   "cell_type": "markdown",
   "id": "88daa91b",
   "metadata": {},
   "source": [
    "Exercício 11 - Faça um Programa que peça o raio de um círculo, calcule e mostre sua \n",
    "área."
   ]
  },
  {
   "cell_type": "code",
   "execution_count": 22,
   "id": "8acae1ea",
   "metadata": {},
   "outputs": [
    {
     "name": "stdout",
     "output_type": "stream",
     "text": [
      "Digite o valor do circulo: 10\n",
      "A area do circulo é 314.0\n"
     ]
    }
   ],
   "source": [
    "raio = input (\"Digite o valor do circulo: \")\n",
    "raio = int(raio)\n",
    "\n",
    "#calcular area\n",
    "area = 3.14 * raio **2\n",
    "print(\"A area do circulo é\", area)\n"
   ]
  },
  {
   "cell_type": "code",
   "execution_count": 21,
   "id": "2b23675e",
   "metadata": {},
   "outputs": [
    {
     "name": "stdout",
     "output_type": "stream",
     "text": [
      "Digite o valor do circulo: 10\n",
      "A area do circulo é 314.0\n"
     ]
    }
   ],
   "source": [
    "import math\n",
    "\n",
    "raio = input (\"Digite o valor do circulo: \")\n",
    "raio = int(raio)\n",
    "\n",
    "pi = math.pi\n",
    "\n",
    "#calcular area\n",
    "area = 3.14 * raio **2\n",
    "print(\"A area do circulo é\", area)"
   ]
  },
  {
   "cell_type": "code",
   "execution_count": 24,
   "id": "6a5821eb",
   "metadata": {},
   "outputs": [
    {
     "name": "stdout",
     "output_type": "stream",
     "text": [
      "Digite o valor do circulo: 10\n",
      "A area do circulo é 314.1592653589793\n"
     ]
    }
   ],
   "source": [
    "import math\n",
    "\n",
    "raio = input (\"Digite o valor do circulo: \")\n",
    "raio = int(raio)\n",
    "\n",
    "pi = math.pi\n",
    "\n",
    "valor1 = pi\n",
    "valor2 = raio **2\n",
    "\n",
    "#calcular area\n",
    "area = valor1 * valor2\n",
    "print(\"A area do circulo é\", area)"
   ]
  },
  {
   "cell_type": "markdown",
   "id": "96c40032",
   "metadata": {},
   "source": [
    "Exercício 12 - Faça um Programa que calcule a área de um quadrado, em seguida \n",
    "mostre o dobro desta área para o usuário."
   ]
  },
  {
   "cell_type": "code",
   "execution_count": 36,
   "id": "0fbdf4b9",
   "metadata": {},
   "outputs": [
    {
     "name": "stdout",
     "output_type": "stream",
     "text": [
      "Digite o valor do lado do quadrado: 20\n",
      "A area do é 400 mm²\n",
      "o dobro da area é 800 mm²\n"
     ]
    }
   ],
   "source": [
    "import math\n",
    "\n",
    "quadrado = input (\"Digite o valor do lado do quadrado: \")\n",
    "quadrado = int(quadrado)\n",
    "\n",
    "\n",
    "valor1 = quadrado\n",
    "valor2 = quadrado\n",
    "\n",
    "#calcular valor da area\n",
    "area = valor1 * valor2\n",
    "\n",
    "#calcular dobro da area\n",
    "dobro = area * 2\n",
    "\n",
    "print(\"A area do é\", area, \"mm²\")\n",
    "\n",
    "#calcular area dobro da area\n",
    "dobro = area * 2\n",
    "\n",
    "print(\"o dobro da area é\", dobro, \"mm²\")"
   ]
  },
  {
   "cell_type": "markdown",
   "id": "518cc7ff",
   "metadata": {},
   "source": [
    "Exercício 13 - Faça um Programa que pergunte quanto você ganha por hora e o número \n",
    "de horas trabalhadas no mês. Calcule e mostre o total do seu salário no referido mês."
   ]
  },
  {
   "cell_type": "code",
   "execution_count": 41,
   "id": "b1708393",
   "metadata": {},
   "outputs": [
    {
     "name": "stdout",
     "output_type": "stream",
     "text": [
      "Digite o valor por hora45\n",
      "Digite quantas horas vc trabalho: 220\n",
      "recebo um valor por hora de R$ 45.0\n",
      "trabalhando 220.0 horas no mes\n",
      " Meu salario é de R$ 9900.0\n"
     ]
    }
   ],
   "source": [
    "salariohora = input(\"Digite o valor por hora\")\n",
    "salariohora = float(salariohora)\n",
    "\n",
    "horastrab = input (\"Digite quantas horas vc trabalho: \")\n",
    "horastrab = float (horastrab)\n",
    "\n",
    "salariomes = salariohora * horastrab\n",
    "\n",
    "print(\"recebo um valor por hora de R$\", salariohora)\n",
    "print(\"trabalhando\", horastrab, \"horas no mes\")\n",
    "print(\" Meu salario é de R$\", salariomes)"
   ]
  },
  {
   "cell_type": "markdown",
   "id": "4b172ea5",
   "metadata": {},
   "source": [
    "Exercício 14 - Faça um Programa que peça a temperatura em graus Fahrenheit, \n",
    "transforme e mostre a temperatura em graus Celsius."
   ]
  },
  {
   "cell_type": "code",
   "execution_count": 44,
   "id": "9ba6524f",
   "metadata": {},
   "outputs": [
    {
     "name": "stdout",
     "output_type": "stream",
     "text": [
      "Digite o valor da temperatura F°50\n",
      "Digite o valor em graus F° de 50.0 é 10.0 graus C°\n"
     ]
    }
   ],
   "source": [
    "tempF = input(\"Digite o valor da temperatura F°\")\n",
    "tempF = float(tempF)\n",
    "\n",
    "tempC = (tempF - 32) / 1.8\n",
    "\n",
    "print(\"Digite o valor em graus F° de\", tempF, \"é\", tempC, \"graus C°\")"
   ]
  },
  {
   "cell_type": "code",
   "execution_count": null,
   "id": "3d43b423",
   "metadata": {},
   "outputs": [],
   "source": []
  }
 ],
 "metadata": {
  "kernelspec": {
   "display_name": "Python 3 (ipykernel)",
   "language": "python",
   "name": "python3"
  },
  "language_info": {
   "codemirror_mode": {
    "name": "ipython",
    "version": 3
   },
   "file_extension": ".py",
   "mimetype": "text/x-python",
   "name": "python",
   "nbconvert_exporter": "python",
   "pygments_lexer": "ipython3",
   "version": "3.10.9"
  }
 },
 "nbformat": 4,
 "nbformat_minor": 5
}
