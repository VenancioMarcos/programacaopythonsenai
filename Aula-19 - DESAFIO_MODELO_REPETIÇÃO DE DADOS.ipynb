{
 "cells": [
  {
   "cell_type": "markdown",
   "metadata": {},
   "source": [
    "### DESAFIO DE REPETIÇÃO"
   ]
  },
  {
   "cell_type": "markdown",
   "metadata": {},
   "source": [
    "##### #TRATANDO OS DADOS RECEBIDO"
   ]
  },
  {
   "cell_type": "code",
   "execution_count": 8,
   "metadata": {},
   "outputs": [
    {
     "name": "stdout",
     "output_type": "stream",
     "text": [
      "[['\\ufeffFirst Name', 'Last Name ', 'Company Name', 'Role in Company', 'Address', 'Email', 'Phone Number'], ['John', 'Smith', 'IT Solutions', 'Analyst', '98 North Road', 'jsmith@itsolutions.co.uk', '40716543298'], ['Jane', 'Dorsey', 'MediCare', 'Medical Engineer', '11 Crown Street', 'jdorsey@mc.com', '40791345621'], ['Albert', 'Kipling', 'Waterfront', 'Accountant', '22 Guild Street', 'kipling@waterfront.com', '40735416854'], ['Michael', 'Robertson', 'MediCare', 'IT Specialist', '17 Farburn Terrace', 'mrobertson@mc.com', '40733652145'], ['Doug', 'Derrick', 'Timepath Inc.', 'Analyst', '99 Shire Oak Road', 'dderrick@timepath.co.uk', '40799885412'], ['Jessie', 'Marlowe', 'Aperture Inc.', 'Scientist', '27 Cheshire Street', 'jmarlowe@aperture.us', '40733154268'], ['Stan', 'Hamm', 'Sugarwell', 'Advisor', '10 Dam Road', 'shamm@sugarwell.org', '40712462257'], ['Michelle', 'Norton', 'Aperture Inc.', 'Scientist', '13 White Rabbit Street', 'mnorton@aperture.us', '40731254562'], ['Stacy', 'Shelby', 'TechDev', 'HR Manager', '19 Pineapple Boulevard', 'sshelby@techdev.com', '40741785214'], ['Lara', 'Palmer', 'Timepath Inc.', 'Programmer', '87 Orange Street', 'lpalmer@timepath.co.uk', '40731653845']]\n"
     ]
    }
   ],
   "source": [
    "def open_file(fileName):\n",
    "    encoding = input('Informe o encoding(ASCII, UTF-16, UTF-8, ANSI):')\n",
    "    try:\n",
    "        with open(fileName, 'r', encoding=encoding) as file:\n",
    "            contents = file.read()\n",
    "            return contents\n",
    "    except UnboundLocalError:\n",
    "        print('ERRO: Encoding especificado diferente do padrão do documento.')\n",
    "\n",
    "caminho = 'C:\\\\Users\\\\FIC\\\\Documents\\\\Marcos.Venancio-Python\\\\'\n",
    "\n",
    "arquivo = 'desadio_cadastro.txt'\n",
    "\n",
    "dados = open_file(caminho + arquivo)\n",
    "\n",
    "lista_dados = dados.splitlines()\n",
    "for i in range (0, len(lista_dados)):\n",
    "    lista_dados[i] = lista_dados[i].split(';')\n",
    "\n",
    "\n",
    "\n",
    "#VARIAVEL DE POSIÇÃO\n",
    "\n",
    "pos = -1\n",
    "\n",
    "for i in range(0,len(lista_dados)):\n",
    "    if lista_dados[i][0] == '':\n",
    "        pos = i\n",
    "        break\n",
    "\n",
    "#IDENTIFICAR A POSIÇÃO DA PRIMEIRA LISTA VAZIA\n",
    "#REALIZAR O FATIAMENTO DA LISTA APENAS COM AS LISTA PREENCHIDAS\n",
    "\n",
    "lista_dados = lista_dados[0:pos]\n",
    "\n",
    "print(lista_dados)"
   ]
  }
 ],
 "metadata": {
  "kernelspec": {
   "display_name": "Python 3",
   "language": "python",
   "name": "python3"
  },
  "language_info": {
   "codemirror_mode": {
    "name": "ipython",
    "version": 3
   },
   "file_extension": ".py",
   "mimetype": "text/x-python",
   "name": "python",
   "nbconvert_exporter": "python",
   "pygments_lexer": "ipython3",
   "version": "3.11.0"
  },
  "orig_nbformat": 4
 },
 "nbformat": 4,
 "nbformat_minor": 2
}
