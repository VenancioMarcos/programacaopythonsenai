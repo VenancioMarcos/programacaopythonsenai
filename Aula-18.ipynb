{
 "cells": [
  {
   "cell_type": "markdown",
   "metadata": {},
   "source": [
    "### EXERCICIO - 07\n",
    "\n",
    "CAPTURAR DE TELA."
   ]
  },
  {
   "cell_type": "code",
   "execution_count": null,
   "metadata": {},
   "outputs": [],
   "source": [
    "!pip install pillow"
   ]
  },
  {
   "cell_type": "code",
   "execution_count": null,
   "metadata": {},
   "outputs": [],
   "source": [
    "import pyautogui\n",
    "import time\n",
    "\n",
    "printScreen = pyautogui.screenshot()\n",
    "printScreen.save('Teste_Print_Aula18.png')"
   ]
  },
  {
   "cell_type": "markdown",
   "metadata": {},
   "source": [
    "### EXERCICIO - 08\n",
    "\n",
    "CAPTURAR UMA REGIÃO ESPECIFICA DA TELA."
   ]
  },
  {
   "cell_type": "code",
   "execution_count": null,
   "metadata": {},
   "outputs": [],
   "source": [
    "import pyautogui\n",
    "import time\n",
    "\n",
    "x, y, largura, altura = 100, 100, 400, 400\n",
    "\n",
    "printScreen2 = pyautogui.screenshot(region=(x, y, largura, altura))\n",
    "printScreen2.save('Teste_Print2_Aula18.png')"
   ]
  },
  {
   "cell_type": "markdown",
   "metadata": {},
   "source": [
    "### EXERCICIO - 09\n",
    "\n",
    "CRIAR UM CODIGO PARA ABRIR O BLOCO DE NOTAS E DIGITE A FRASE (HELLO, WORLD)!"
   ]
  },
  {
   "cell_type": "code",
   "execution_count": null,
   "metadata": {},
   "outputs": [],
   "source": [
    "import pyautogui\n",
    "import time\n",
    "import os\n",
    "\n",
    "time.sleep(1)\n",
    "pyautogui.press('win')\n",
    "time.sleep(1)\n",
    "pyautogui.write('bloco de notas')\n",
    "time.sleep(1)\n",
    "pyautogui.press('enter')\n",
    "time.sleep(1)\n",
    "pyautogui.write('HELLO, MARCOS')\n",
    "time.sleep(1)\n",
    "pyautogui.hotkey('ctrl', 's')\n",
    "pyautogui.write('teste_aula18.txt') #Pode tbm indicar o caminho para salvar.\n",
    "pyautogui.press('enter')\n"
   ]
  },
  {
   "cell_type": "markdown",
   "metadata": {},
   "source": [
    "### EXERCICIO - 10\n",
    "\n",
    "GERAR UM CODIGO PARA LOCALIZAR A POSIÇÃO DE UMA IMAGEM EM UMA PAGINA NA WEB"
   ]
  },
  {
   "cell_type": "code",
   "execution_count": null,
   "metadata": {},
   "outputs": [],
   "source": [
    "import pyautogui\n",
    "import time\n",
    "\n",
    "x, y, largura, altura = 200, 200, 200, 200\n",
    "\n",
    "printScreen3 = pyautogui.screenshot(region=(x, y, largura, altura))\n",
    "printScreen3.save('nome2.png')"
   ]
  },
  {
   "cell_type": "code",
   "execution_count": 37,
   "metadata": {},
   "outputs": [],
   "source": [
    "import pyautogui\n",
    "import time\n",
    "\n",
    "time.sleep(1)\n",
    "pyautogui.hotkey('win', 'r')\n",
    "\n",
    "pyautogui.typewrite('https://forms.gle/6T6Umx21BMqqsfHD8\\n')\n",
    "#time.sleep(2)\n",
    "#pyautogui.press('enter')\n",
    "time.sleep(0.5)\n",
    "\n",
    "pyautogui.locateCenterOnScreen('C:\\\\Users\\\\FIC\\\\Documents\\\\Marcos.Venancio-Python\\\\capteste.png')\n",
    "\n",
    "pyautogui.click(687, 530)\n",
    "time.sleep(0.25)\n",
    "pyautogui.write('MARCOS')\n",
    "\n",
    "time.sleep(0.25)\n",
    "pyautogui.press('tab')\n",
    "time.sleep(0.25)\n",
    "pyautogui.write('VENANCIO')\n",
    "\n",
    "time.sleep(0.25)\n",
    "pyautogui.press('tab')\n",
    "time.sleep(0.25)\n",
    "pyautogui.write('MARCOSV.ENGPROD@GMAIL.COM')\n",
    "\n",
    "time.sleep(0.25)\n",
    "pyautogui.press('tab')\n",
    "time.sleep(0.25)\n",
    "pyautogui.write('MARCOSV.ENGPROD@GMAIL.COM')\n",
    "\n",
    "time.sleep(0.25)\n",
    "pyautogui.press('tab')\n",
    "time.sleep(0.25)\n",
    "pyautogui.write('11984640430')\n",
    "\n",
    "time.sleep(0.25)\n",
    "pyautogui.press('tab')\n",
    "time.sleep(0.25)\n",
    "pyautogui.press('enter')"
   ]
  }
 ],
 "metadata": {
  "kernelspec": {
   "display_name": "Python 3",
   "language": "python",
   "name": "python3"
  },
  "language_info": {
   "codemirror_mode": {
    "name": "ipython",
    "version": 3
   },
   "file_extension": ".py",
   "mimetype": "text/x-python",
   "name": "python",
   "nbconvert_exporter": "python",
   "pygments_lexer": "ipython3",
   "version": "3.11.0"
  },
  "orig_nbformat": 4
 },
 "nbformat": 4,
 "nbformat_minor": 2
}
