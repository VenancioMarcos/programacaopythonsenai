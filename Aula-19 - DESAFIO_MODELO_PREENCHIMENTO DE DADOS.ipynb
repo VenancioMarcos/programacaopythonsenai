{
 "cells": [
  {
   "cell_type": "markdown",
   "metadata": {},
   "source": [
    "### DESAFIO AULA FINAL"
   ]
  },
  {
   "cell_type": "code",
   "execution_count": null,
   "metadata": {},
   "outputs": [],
   "source": [
    "https://forms.gle/1rfKi5BEicT6JgZz9\n",
    "\n",
    "John;\n",
    "Smith;\n",
    "IT Solutions;\n",
    "Analyst;\n",
    "98 North Road;\n",
    "jsmith@itsolutions.co.uk\n",
    ";40716543298"
   ]
  },
  {
   "cell_type": "code",
   "execution_count": 19,
   "metadata": {},
   "outputs": [],
   "source": [
    "import pyautogui\n",
    "import time\n",
    "\n",
    "time.sleep(1)\n",
    "pyautogui.hotkey('win', 'r')\n",
    "\n",
    "pyautogui.typewrite('https://forms.gle/1rfKi5BEicT6JgZz9\\n')\n",
    "#time.sleep(2)\n",
    "#pyautogui.press('enter')\n",
    "time.sleep(0.25)\n",
    "\n",
    "pyautogui.locateCenterOnScreen('C:\\\\Users\\\\FIC\\\\Documents\\\\Marcos.Venancio-Python\\\\desafioo_final.png')\n",
    "\n",
    "time.sleep(1)\n",
    "\n",
    "pyautogui.click(700, 350)\n",
    "\n",
    "time.sleep(0.25)\n",
    "pyautogui.write('John')\n",
    "\n",
    "\n",
    "time.sleep(0.25)\n",
    "pyautogui.press('tab')\n",
    "time.sleep(0.25)\n",
    "pyautogui.write('Smith')\n",
    "\n",
    "time.sleep(0.25)\n",
    "pyautogui.press('tab')\n",
    "time.sleep(0.25)\n",
    "pyautogui.write('IT Solutions')\n",
    "\n",
    "time.sleep(0.25)\n",
    "pyautogui.press('tab')\n",
    "time.sleep(0.25)\n",
    "pyautogui.write('Analyst')\n",
    "\n",
    "time.sleep(0.25)\n",
    "pyautogui.press('tab')\n",
    "time.sleep(0.25)\n",
    "pyautogui.write('98 North Road')\n",
    "\n",
    "time.sleep(0.25)\n",
    "pyautogui.press('tab')\n",
    "time.sleep(0.25)\n",
    "pyautogui.write('jsmith@itsolutions.co.uk')\n",
    "\n",
    "time.sleep(0.25)\n",
    "pyautogui.press('tab')\n",
    "time.sleep(0.25)\n",
    "pyautogui.write('40716543298')\n",
    "\n",
    "time.sleep(0.25)\n",
    "pyautogui.press('tab')\n",
    "time.sleep(0.25)\n",
    "pyautogui.press('enter')"
   ]
  }
 ],
 "metadata": {
  "kernelspec": {
   "display_name": "Python 3",
   "language": "python",
   "name": "python3"
  },
  "language_info": {
   "codemirror_mode": {
    "name": "ipython",
    "version": 3
   },
   "file_extension": ".py",
   "mimetype": "text/x-python",
   "name": "python",
   "nbconvert_exporter": "python",
   "pygments_lexer": "ipython3",
   "version": "3.11.0"
  },
  "orig_nbformat": 4
 },
 "nbformat": 4,
 "nbformat_minor": 2
}
